{
 "cells": [
  {
   "cell_type": "markdown",
   "metadata": {},
   "source": [
    "# 06 - Funções e Recursividade\n",
    "---\n",
    "\n",
    "<img src=\"https://selecao.letscode.com.br/favicon.png\" width=\"40px\" style=\"position: absolute; top: 15px; right: 40px; border-radius: 5px;\" />"
   ]
  },
  {
   "cell_type": "markdown",
   "metadata": {},
   "source": [
    "## 1. Funções\n",
    "\n",
    "Uma função é um pedaço de código que faz alguma tarefa específica e pode ser chamado de qualquer parte do programa quantas vezes desejarmos. Nós podemos dar um nome para nossa função, e toda vez que precisarmos que essa rotina do programa seja executada, nós a chamamos pelo nome.\n",
    "\n",
    "**Com isso, podemos evitar repetição de código, tornando nossos códigos mais enxutos e legíveis.**\n",
    "\n",
    "### Criando a primeira função "
   ]
  },
  {
   "cell_type": "code",
   "execution_count": 5,
   "metadata": {},
   "outputs": [],
   "source": [
    "# função \"saudacao\"\n",
    "def saudacao():\n",
    "  print('Bom dia! Sejam bem-vindos a Aula 08 de Lógica de Programação e POO!')"
   ]
  },
  {
   "cell_type": "code",
   "execution_count": 4,
   "metadata": {},
   "outputs": [
    {
     "name": "stdout",
     "output_type": "stream",
     "text": [
      "Bom dia! Sejam bem-vindos a Aula 08 de Lógica de Programação e POO!\n",
      "Walisson\n"
     ]
    }
   ],
   "source": [
    "nome = 'Walisson'\n",
    "\n",
    "saudacao()\n",
    "\n",
    "print(nome)"
   ]
  },
  {
   "cell_type": "markdown",
   "metadata": {},
   "source": [
    "### Enviando parâmetros para as funções\n",
    "\n",
    "Nossas funções devem ser tão genéricas quanto possível se quisermos reaproveitá-las ao máximo. \n",
    "\n",
    "Um dos pontos onde devemos tomar cuidado é na entrada de dados da função: se usarmos um _input_ dentro da função, teremos uma função que resolverá um certo problema _desde que o usuário vá digitar os dados do problema_. Mas e se quisermos usar a função em um trecho do programa onde o usuário digita os dados e em outro ponto onde os dados são lidos de um arquivo?\n",
    "\n",
    "Podemos resolver isso fazendo a leitura de dados no programa principal, fora de nossa função, e então **passaremos** os dados para a função. Dados passados para a função são chamados de _parâmetros_ ou _argumentos_ de uma função. Observe o exemplo abaixo:"
   ]
  },
  {
   "cell_type": "code",
   "execution_count": 25,
   "metadata": {},
   "outputs": [
    {
     "data": {
      "text/plain": [
       "'Hoje é dia 21/12, são 10:03'"
      ]
     },
     "execution_count": 25,
     "metadata": {},
     "output_type": "execute_result"
    }
   ],
   "source": [
    "'Hoje é dia {}, são {}'.format('21/12', '10:03')"
   ]
  },
  {
   "cell_type": "code",
   "execution_count": 31,
   "metadata": {},
   "outputs": [],
   "source": [
    "# Melhorando a função de saudação\n",
    "def saudacao(aula, modulo):\n",
    "  print(f'Bom dia! Sejam bem-vindos a Aula {str(aula).zfill(2)} de {modulo}!')\n",
    "  print(f'Bom dia! Sejam bem-vindos a Aula {aula:02} de {modulo}!')\n",
    "  print('Bom dia! Sejam bem-vindos a Aula {:02} de {}!'.format(aula, modulo))"
   ]
  },
  {
   "cell_type": "code",
   "execution_count": 32,
   "metadata": {},
   "outputs": [
    {
     "ename": "TypeError",
     "evalue": "saudacao() missing 2 required positional arguments: 'aula' and 'modulo'",
     "output_type": "error",
     "traceback": [
      "\u001b[0;31m---------------------------------------------------------------------------\u001b[0m",
      "\u001b[0;31mTypeError\u001b[0m                                 Traceback (most recent call last)",
      "\u001b[0;32m/tmp/ipykernel_17009/3708284132.py\u001b[0m in \u001b[0;36m<module>\u001b[0;34m\u001b[0m\n\u001b[0;32m----> 1\u001b[0;31m \u001b[0msaudacao\u001b[0m\u001b[0;34m(\u001b[0m\u001b[0;34m)\u001b[0m\u001b[0;34m\u001b[0m\u001b[0;34m\u001b[0m\u001b[0m\n\u001b[0m",
      "\u001b[0;31mTypeError\u001b[0m: saudacao() missing 2 required positional arguments: 'aula' and 'modulo'"
     ]
    }
   ],
   "source": [
    "saudacao()"
   ]
  },
  {
   "cell_type": "code",
   "execution_count": 33,
   "metadata": {},
   "outputs": [
    {
     "name": "stdout",
     "output_type": "stream",
     "text": [
      "Bom dia! Sejam bem-vindos a Aula 08 de Lógica de Programação e POO!\n",
      "Bom dia! Sejam bem-vindos a Aula 08 de Lógica de Programação e POO!\n",
      "Bom dia! Sejam bem-vindos a Aula 08 de Lógica de Programação e POO!\n"
     ]
    }
   ],
   "source": [
    "saudacao(8, 'Lógica de Programação e POO')"
   ]
  },
  {
   "cell_type": "code",
   "execution_count": 23,
   "metadata": {},
   "outputs": [
    {
     "name": "stdout",
     "output_type": "stream",
     "text": [
      "Bom dia! Sejam bem-vindos a Aula 3 de Matemática e Estatística!\n",
      "Bom dia! Sejam bem-vindos a Aula 03 de Matemática e Estatística!\n"
     ]
    }
   ],
   "source": [
    "saudacao(3, 'Matemática e Estatística')"
   ]
  },
  {
   "cell_type": "code",
   "execution_count": 49,
   "metadata": {},
   "outputs": [],
   "source": [
    "# Definindo parâmetros default na função\n",
    "def saudacao(aula, modulo, turno='Manhã'):\n",
    "  if (turno == 'Manhã'):\n",
    "    print('Bom dia! Sejam bem-vindos a Aula {:02} de {}!'.format(aula, modulo))\n",
    "  elif turno == 'Tarde':\n",
    "    print('Boa tarde! Sejam bem-vindos a Aula {:02} de {}!'.format(aula, modulo))\n",
    "  else:\n",
    "    print('Boa noite! Sejam bem-vindos a Aula {:02} de {}!'.format(aula, modulo))"
   ]
  },
  {
   "cell_type": "code",
   "execution_count": 51,
   "metadata": {},
   "outputs": [
    {
     "name": "stdout",
     "output_type": "stream",
     "text": [
      "Boa noite! Sejam bem-vindos a Aula 08 de Lógica de Programação e POO!\n"
     ]
    }
   ],
   "source": [
    "saudacao(8, 'Lógica de Programação e POO', 'Noite')"
   ]
  },
  {
   "cell_type": "code",
   "execution_count": 55,
   "metadata": {},
   "outputs": [],
   "source": [
    "# Definindo parâmetros default na função\n",
    "def saudacao(aula, modulo, horario):\n",
    "  pass"
   ]
  },
  {
   "cell_type": "code",
   "execution_count": 42,
   "metadata": {},
   "outputs": [],
   "source": [
    "from datetime import datetime"
   ]
  },
  {
   "cell_type": "code",
   "execution_count": 45,
   "metadata": {},
   "outputs": [],
   "source": [
    "datetime_now = datetime.now()"
   ]
  },
  {
   "cell_type": "code",
   "execution_count": 48,
   "metadata": {},
   "outputs": [
    {
     "data": {
      "text/plain": [
       "10"
      ]
     },
     "execution_count": 48,
     "metadata": {},
     "output_type": "execute_result"
    }
   ],
   "source": [
    "datetime_now.hour"
   ]
  },
  {
   "cell_type": "code",
   "execution_count": 50,
   "metadata": {},
   "outputs": [],
   "source": [
    "# Soma de dois números\n"
   ]
  },
  {
   "cell_type": "code",
   "execution_count": null,
   "metadata": {},
   "outputs": [],
   "source": []
  },
  {
   "cell_type": "code",
   "execution_count": 56,
   "metadata": {},
   "outputs": [],
   "source": [
    "texto = 'abracadabra'"
   ]
  },
  {
   "cell_type": "code",
   "execution_count": 57,
   "metadata": {},
   "outputs": [
    {
     "data": {
      "text/plain": [
       "'abracadabra'"
      ]
     },
     "execution_count": 57,
     "metadata": {},
     "output_type": "execute_result"
    }
   ],
   "source": [
    "texto"
   ]
  },
  {
   "cell_type": "code",
   "execution_count": 59,
   "metadata": {},
   "outputs": [
    {
     "data": {
      "text/plain": [
       "'arbadacarba'"
      ]
     },
     "execution_count": 59,
     "metadata": {},
     "output_type": "execute_result"
    }
   ],
   "source": [
    "texto[::-1]"
   ]
  },
  {
   "cell_type": "code",
   "execution_count": 62,
   "metadata": {},
   "outputs": [
    {
     "data": {
      "text/plain": [
       "'arbadacarba'"
      ]
     },
     "execution_count": 62,
     "metadata": {},
     "output_type": "execute_result"
    }
   ],
   "source": [
    "texto_lista = list(texto)\n",
    "texto_lista.reverse()\n",
    "\n",
    "''.join(texto_lista)"
   ]
  },
  {
   "cell_type": "code",
   "execution_count": 65,
   "metadata": {},
   "outputs": [],
   "source": [
    "# Função que recebe uma string e imprime ela invertida\n",
    "def inverter_string(string):\n",
    "  print(string[::-1])"
   ]
  },
  {
   "cell_type": "code",
   "execution_count": 67,
   "metadata": {},
   "outputs": [
    {
     "name": "stdout",
     "output_type": "stream",
     "text": [
      "asioc reuqlauq\n"
     ]
    }
   ],
   "source": [
    "inverter_string('qualquer coisa')"
   ]
  },
  {
   "cell_type": "code",
   "execution_count": 68,
   "metadata": {},
   "outputs": [
    {
     "name": "stdout",
     "output_type": "stream",
     "text": [
      "arara\n"
     ]
    }
   ],
   "source": [
    "inverter_string('arara')"
   ]
  },
  {
   "cell_type": "markdown",
   "metadata": {},
   "source": [
    "### Retorno de uma função\n",
    "\n",
    "Certas funções possuem uma \"resposta\": elas resolvem um problema (por exemplo, uma equação matemática) e nós estamos interessados no resultado. No exemplo anterior, tínhamos uma soma e nós imprimíamos a soma na tela.\n",
    "\n",
    "Porém, ainda pensando na questão da função ser genérica: será que nós sempre queremos o resultado na tela? Imagine que você esteja utilizando a fórmula de Bháskara para resolver uma equação de segundo grau. No meio da fórmula existe uma raiz quadrada. Nós não queremos o resultado da raiz quadrada na tela, nós queremos o resultado dentro do nosso programa em uma variável para jogar em outra equação."
   ]
  },
  {
   "cell_type": "code",
   "execution_count": 76,
   "metadata": {},
   "outputs": [],
   "source": [
    "# Retornando a string invertida\n",
    "def inverter_string(string):\n",
    "  print('Olá')\n",
    "  return string[::-1]"
   ]
  },
  {
   "cell_type": "code",
   "execution_count": 77,
   "metadata": {},
   "outputs": [
    {
     "name": "stdout",
     "output_type": "stream",
     "text": [
      "Olá\n"
     ]
    }
   ],
   "source": [
    "string_invertida = inverter_string('alguma coisa')"
   ]
  },
  {
   "cell_type": "code",
   "execution_count": 78,
   "metadata": {},
   "outputs": [
    {
     "data": {
      "text/plain": [
       "'ASIOC AMUGLA'"
      ]
     },
     "execution_count": 78,
     "metadata": {},
     "output_type": "execute_result"
    }
   ],
   "source": [
    "string_invertida.upper()"
   ]
  },
  {
   "cell_type": "code",
   "execution_count": 104,
   "metadata": {},
   "outputs": [],
   "source": [
    "# Função para dividir dois números\n",
    "def divisao(dividendo, divisor):\n",
    "  '''\n",
    "    Uma função que divide ...\n",
    "    Quando o divisor for zero, a função retorna `None`.\n",
    "  '''\n",
    "  if divisor == 0:\n",
    "    print('Não é possível dividir por zero.')\n",
    "    return None\n",
    "\n",
    "  return dividendo / divisor"
   ]
  },
  {
   "cell_type": "code",
   "execution_count": 101,
   "metadata": {},
   "outputs": [
    {
     "name": "stdout",
     "output_type": "stream",
     "text": [
      "Não é possível dividir por zero.\n"
     ]
    }
   ],
   "source": [
    "divisao(10, 0)"
   ]
  },
  {
   "cell_type": "code",
   "execution_count": 102,
   "metadata": {},
   "outputs": [
    {
     "data": {
      "text/plain": [
       "5.0"
      ]
     },
     "execution_count": 102,
     "metadata": {},
     "output_type": "execute_result"
    }
   ],
   "source": [
    "divisao(10, 2)"
   ]
  },
  {
   "cell_type": "code",
   "execution_count": 2,
   "metadata": {},
   "outputs": [],
   "source": [
    "# Função para verificar se um número é maior que 100\n"
   ]
  },
  {
   "cell_type": "code",
   "execution_count": null,
   "metadata": {},
   "outputs": [],
   "source": []
  },
  {
   "cell_type": "code",
   "execution_count": null,
   "metadata": {},
   "outputs": [],
   "source": []
  },
  {
   "cell_type": "markdown",
   "metadata": {},
   "source": [
    "### Retornando múltiplos valores"
   ]
  },
  {
   "cell_type": "markdown",
   "metadata": {},
   "source": [
    "$$\n",
    "    ax^2 + bx + c = 0\n",
    "$$"
   ]
  },
  {
   "cell_type": "code",
   "execution_count": 106,
   "metadata": {},
   "outputs": [],
   "source": [
    "# Calcular as raízes de uma equação de 2º grau\n",
    "def calcular_raizes(a, b, c):\n",
    "  # Calcular as raízes\n",
    "  raiz1 = 10\n",
    "  raiz2 = 4\n",
    "  \n",
    "  return raiz1, raiz2"
   ]
  },
  {
   "cell_type": "code",
   "execution_count": 107,
   "metadata": {},
   "outputs": [
    {
     "data": {
      "text/plain": [
       "(10, 4)"
      ]
     },
     "execution_count": 107,
     "metadata": {},
     "output_type": "execute_result"
    }
   ],
   "source": [
    "retorno = calcular_raizes(1, 2, 3)\n",
    "\n",
    "retorno"
   ]
  },
  {
   "cell_type": "code",
   "execution_count": 108,
   "metadata": {},
   "outputs": [
    {
     "name": "stdout",
     "output_type": "stream",
     "text": [
      "10 4\n"
     ]
    }
   ],
   "source": [
    "r1, r2 = calcular_raizes(1, 2, 3)\n",
    "\n",
    "print(r1, r2)"
   ]
  },
  {
   "cell_type": "markdown",
   "metadata": {},
   "source": [
    "> O `return`, além de disponibilizar um valor, encerra a execução da função. Se a sua função possuir outras linhas após o return, elas serão ignoradas."
   ]
  },
  {
   "cell_type": "markdown",
   "metadata": {},
   "source": [
    "## 2. Recursividade\n",
    "---\n",
    "\n",
    "Recursividade é a propriedade de algo que é definido em termos de si mesmo, por exemplo, uma função que faz parte de sua própria definição. Em outras palavras, podemos dizer que uma função é recursiva quando, em algum ponto de sua definição, a função chama a si mesma.\n",
    "\n",
    "Como exemplo de definição recursiva, vamos utilizar o [fatorial](https://pt.wikipedia.org/wiki/Fatorial), que pode ser definido recursivamente da seguinte maneira:\n",
    "\n",
    "$$\n",
    "fatorial(n) = \\left\\{\\begin{array}{ll}1,\\ \\ se\\ \\ n = 0 \\\\ n \\cdot fatorial(n - 1),\\ \\ se\\ \\  n > 0\\end{array}\\right.\n",
    "$$\n",
    "\n",
    "Que pode ser traduzida em código Python como:"
   ]
  },
  {
   "cell_type": "code",
   "execution_count": null,
   "metadata": {},
   "outputs": [],
   "source": [
    "4! = 4 * 3 * 2 * 1 = 4 * 3!\n",
    "3! = 3 * 2 * 1 = 3 * 2!\n",
    "2! = 2 * 1!\n",
    "1! = 1"
   ]
  },
  {
   "cell_type": "code",
   "execution_count": 113,
   "metadata": {},
   "outputs": [],
   "source": [
    "# 4 -> fatorial(3)\n",
    "# 3 -> fatorial(2)\n",
    "# 2 -> fatorial(1)\n",
    "# 1 -> fatorial(0)\n",
    "# 0 -> fatorial(-1)\n",
    "\n",
    "def fatorial(n):\n",
    "  if n == 0 or n == 1:\n",
    "    return 1\n",
    "\n",
    "  return n * fatorial(n - 1)"
   ]
  },
  {
   "cell_type": "code",
   "execution_count": 122,
   "metadata": {},
   "outputs": [
    {
     "name": "stdout",
     "output_type": "stream",
     "text": [
      "3000\n"
     ]
    }
   ],
   "source": [
    "import sys\n",
    "print(sys.getrecursionlimit())"
   ]
  },
  {
   "cell_type": "markdown",
   "metadata": {},
   "source": [
    "### Como definir uma função recursiva?\n",
    "\n",
    "A recursividade está essencialmente relacionada com o conceito de **repetição** e assim como nas estruturas de repetição (ou seja, `for` e `while`) precisamos tomar alguns cuidados para que a função não fique chamando a si mesma \"para sempre\" (numa espécie de loop infinito).\n",
    "Para definir uma função recursiva corretamente, ou seja, garantindo que ela não vai rodar para sempre, é necessário que ela possua as seguintes propriedades:\n",
    "\n",
    "1. Deve haver um caso base (caso final), no qual a função não chama a si própria, mas retorna um valor específico.\n",
    "2. O passo recursivo deve ser diferente da chamada atual, e deve caminhar para o caso base.\n",
    "\n",
    "O caso base indica quando a recursão irá \"parar\". Ou seja, ao atingir o caso base o programa não fará outra chamada recursiva.\n",
    "Veja a primeira linha da definição de fatorial acima, essa linha define o caso base. Para saber o fatorial de um número qualquer precisamos multiplicá-lo pelo fatorial do número anterior (passo recursivo), exceto para o elemento \"base\", o zero, para o qual temos o valor dado pela definição, fatorial(0) = 1.\n",
    "\n",
    "O passo recursivo é onde a função chama a si mesma. Na definição acima, trata-se da segunda linha. Essa chamada deve ser atualizada para que a função \"ande em direção ao caso base\". Por exemplo, imagine que na definição de fatorial(n) houvesse uma chamada para o próprio fatorial(n), ou seja, um passo recursivo exatamente igual à chamada atual. Nesse caso a função jamais chegaria ao caso base e portanto ficaria em execução sem nunca retornar um valor."
   ]
  },
  {
   "cell_type": "markdown",
   "metadata": {},
   "source": [
    "---\n",
    "### Para praticar\n",
    "\n",
    "A sequência de Fibonacci é composta por uma sucessão de números descrita pelo famoso matemático italiano Leonardo de Pisa (1170-1250), mais conhecido como Fibonacci, no final do século 12. Essa sequência inicia normalmente por 0 e 1, e cada termo subsequente corresponde à soma dos dois anteriores.\n",
    "\n",
    "\n",
    "Os 11 primeiros termos da sequência de Fibonacci são:\n",
    "\n",
    "> 0, 1, 1, 2, 3, 5, 8, 13, 21, 34, 55...\n",
    "\n",
    "Crie um script para informar qual seria o n-ésimo elemento dessa sequência. Por exemplo, se o usuário solicitar o 8º elemento da sequência, o resultado deve ser 13. Para isso, utilize uma:\n",
    "\n",
    "1. Abordagem iterativa (while ou for)\n",
    "2. Abordagem recursiva\n",
    "\n",
    "\n",
    "![](https://media.tenor.com/images/56074b63a3b147fe7ac2ff71d3e9fc26/tenor.gif)"
   ]
  },
  {
   "cell_type": "code",
   "execution_count": 135,
   "metadata": {},
   "outputs": [],
   "source": [
    "def fibonacci(pos):\n",
    "  if pos <= 0:\n",
    "    return None\n",
    "\n",
    "  if pos == 1 or pos == 2:\n",
    "    return pos - 1\n",
    "\n",
    "  return fibonacci(pos - 1) + fibonacci(pos - 2)"
   ]
  },
  {
   "cell_type": "code",
   "execution_count": 134,
   "metadata": {},
   "outputs": [
    {
     "data": {
      "text/plain": [
       "2"
      ]
     },
     "execution_count": 134,
     "metadata": {},
     "output_type": "execute_result"
    }
   ],
   "source": [
    "fibonacci(4)"
   ]
  },
  {
   "cell_type": "code",
   "execution_count": null,
   "metadata": {},
   "outputs": [],
   "source": []
  },
  {
   "cell_type": "code",
   "execution_count": null,
   "metadata": {},
   "outputs": [],
   "source": []
  },
  {
   "cell_type": "code",
   "execution_count": null,
   "metadata": {},
   "outputs": [],
   "source": []
  },
  {
   "cell_type": "code",
   "execution_count": null,
   "metadata": {},
   "outputs": [],
   "source": []
  },
  {
   "cell_type": "markdown",
   "metadata": {},
   "source": [
    "## 3. Funções com parâmetros variáveis"
   ]
  },
  {
   "cell_type": "markdown",
   "metadata": {},
   "source": [
    "### 3.1. Agrupando parâmetros"
   ]
  },
  {
   "cell_type": "code",
   "execution_count": null,
   "metadata": {},
   "outputs": [],
   "source": []
  },
  {
   "cell_type": "code",
   "execution_count": null,
   "metadata": {},
   "outputs": [],
   "source": []
  },
  {
   "cell_type": "code",
   "execution_count": null,
   "metadata": {},
   "outputs": [],
   "source": []
  },
  {
   "cell_type": "markdown",
   "metadata": {},
   "source": [
    "### 3.2. Parâmetros Opcionais"
   ]
  },
  {
   "cell_type": "code",
   "execution_count": null,
   "metadata": {},
   "outputs": [],
   "source": []
  },
  {
   "cell_type": "code",
   "execution_count": null,
   "metadata": {},
   "outputs": [],
   "source": []
  },
  {
   "cell_type": "code",
   "execution_count": null,
   "metadata": {},
   "outputs": [],
   "source": []
  }
 ],
 "metadata": {
  "kernelspec": {
   "display_name": "Python 3 (ipykernel)",
   "language": "python",
   "name": "python3"
  },
  "language_info": {
   "codemirror_mode": {
    "name": "ipython",
    "version": 3
   },
   "file_extension": ".py",
   "mimetype": "text/x-python",
   "name": "python",
   "nbconvert_exporter": "python",
   "pygments_lexer": "ipython3",
   "version": "3.10.0"
  }
 },
 "nbformat": 4,
 "nbformat_minor": 4
}
