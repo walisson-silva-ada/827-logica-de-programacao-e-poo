{
 "cells": [
  {
   "cell_type": "markdown",
   "metadata": {},
   "source": [
    "# 06 - Funções e Recursividade\n",
    "---\n",
    "\n",
    "<img src=\"https://selecao.letscode.com.br/favicon.png\" width=\"40px\" style=\"position: absolute; top: 15px; right: 40px; border-radius: 5px;\" />"
   ]
  },
  {
   "cell_type": "markdown",
   "metadata": {},
   "source": [
    "## 1. Funções\n",
    "\n",
    "Uma função é um pedaço de código que faz alguma tarefa específica e pode ser chamado de qualquer parte do programa quantas vezes desejarmos. Nós podemos dar um nome para nossa função, e toda vez que precisarmos que essa rotina do programa seja executada, nós a chamamos pelo nome.\n",
    "\n",
    "**Com isso, podemos evitar repetição de código, tornando nossos códigos mais enxutos e legíveis.**\n",
    "\n",
    "### Criando a primeira função "
   ]
  },
  {
   "cell_type": "code",
   "execution_count": 81,
   "metadata": {},
   "outputs": [],
   "source": [
    "# função \"saudacao\"\n"
   ]
  },
  {
   "cell_type": "code",
   "execution_count": null,
   "metadata": {},
   "outputs": [],
   "source": []
  },
  {
   "cell_type": "markdown",
   "metadata": {},
   "source": [
    "### Enviando parâmetros para as funções\n",
    "\n",
    "Nossas funções devem ser tão genéricas quanto possível se quisermos reaproveitá-las ao máximo. \n",
    "\n",
    "Um dos pontos onde devemos tomar cuidado é na entrada de dados da função: se usarmos um _input_ dentro da função, teremos uma função que resolverá um certo problema _desde que o usuário vá digitar os dados do problema_. Mas e se quisermos usar a função em um trecho do programa onde o usuário digita os dados e em outro ponto onde os dados são lidos de um arquivo?\n",
    "\n",
    "Podemos resolver isso fazendo a leitura de dados no programa principal, fora de nossa função, e então **passaremos** os dados para a função. Dados passados para a função são chamados de _parâmetros_ ou _argumentos_ de uma função. Observe o exemplo abaixo:"
   ]
  },
  {
   "cell_type": "code",
   "execution_count": null,
   "metadata": {},
   "outputs": [],
   "source": [
    "# Melhorando a função de saudação\n"
   ]
  },
  {
   "cell_type": "code",
   "execution_count": null,
   "metadata": {},
   "outputs": [],
   "source": []
  },
  {
   "cell_type": "code",
   "execution_count": 50,
   "metadata": {},
   "outputs": [],
   "source": [
    "# Soma de dois números\n"
   ]
  },
  {
   "cell_type": "code",
   "execution_count": null,
   "metadata": {},
   "outputs": [],
   "source": []
  },
  {
   "cell_type": "code",
   "execution_count": 54,
   "metadata": {},
   "outputs": [],
   "source": [
    "# Função que recebe uma string e imprime ela invertida\n"
   ]
  },
  {
   "cell_type": "code",
   "execution_count": null,
   "metadata": {},
   "outputs": [],
   "source": []
  },
  {
   "cell_type": "markdown",
   "metadata": {},
   "source": [
    "### Retorno de uma função\n",
    "\n",
    "Certas funções possuem uma \"resposta\": elas resolvem um problema (por exemplo, uma equação matemática) e nós estamos interessados no resultado. No exemplo anterior, tínhamos uma soma e nós imprimíamos a soma na tela.\n",
    "\n",
    "Porém, ainda pensando na questão da função ser genérica: será que nós sempre queremos o resultado na tela? Imagine que você esteja utilizando a fórmula de Bháskara para resolver uma equação de segundo grau. No meio da fórmula existe uma raiz quadrada. Nós não queremos o resultado da raiz quadrada na tela, nós queremos o resultado dentro do nosso programa em uma variável para jogar em outra equação."
   ]
  },
  {
   "cell_type": "code",
   "execution_count": 1,
   "metadata": {},
   "outputs": [],
   "source": [
    "# Retornando a string invertida\n"
   ]
  },
  {
   "cell_type": "code",
   "execution_count": null,
   "metadata": {},
   "outputs": [],
   "source": []
  },
  {
   "cell_type": "code",
   "execution_count": null,
   "metadata": {},
   "outputs": [],
   "source": []
  },
  {
   "cell_type": "code",
   "execution_count": null,
   "metadata": {},
   "outputs": [],
   "source": [
    "# Função para dividir dois números\n"
   ]
  },
  {
   "cell_type": "code",
   "execution_count": 2,
   "metadata": {},
   "outputs": [],
   "source": [
    "# Função para verificar se um número é maior que 100\n"
   ]
  },
  {
   "cell_type": "code",
   "execution_count": null,
   "metadata": {},
   "outputs": [],
   "source": []
  },
  {
   "cell_type": "code",
   "execution_count": null,
   "metadata": {},
   "outputs": [],
   "source": []
  },
  {
   "cell_type": "markdown",
   "metadata": {},
   "source": [
    "### Retornando múltiplos valores"
   ]
  },
  {
   "cell_type": "markdown",
   "metadata": {},
   "source": [
    "$$\n",
    "    ax^2 + bx + c = 0\n",
    "$$"
   ]
  },
  {
   "cell_type": "code",
   "execution_count": 3,
   "metadata": {},
   "outputs": [],
   "source": [
    "# Calcular as raízes de uma equação de 2º grau\n"
   ]
  },
  {
   "cell_type": "code",
   "execution_count": null,
   "metadata": {},
   "outputs": [],
   "source": []
  },
  {
   "cell_type": "code",
   "execution_count": null,
   "metadata": {},
   "outputs": [],
   "source": []
  },
  {
   "cell_type": "code",
   "execution_count": null,
   "metadata": {},
   "outputs": [],
   "source": []
  },
  {
   "cell_type": "markdown",
   "metadata": {},
   "source": [
    "> O `return`, além de disponibilizar um valor, encerra a execução da função. Se a sua função possuir outras linhas após o return, elas serão ignoradas."
   ]
  },
  {
   "cell_type": "markdown",
   "metadata": {},
   "source": [
    "## 2. Recursividade\n",
    "---\n",
    "\n",
    "Recursividade é a propriedade de algo que é definido em termos de si mesmo, por exemplo, uma função que faz parte de sua própria definição. Em outras palavras, podemos dizer que uma função é recursiva quando, em algum ponto de sua definição, a função chama a si mesma.\n",
    "\n",
    "Como exemplo de definição recursiva, vamos utilizar o [fatorial](https://pt.wikipedia.org/wiki/Fatorial), que pode ser definido recursivamente da seguinte maneira:\n",
    "\n",
    "$$\n",
    "fatorial(n) = \\left\\{\\begin{array}{ll}1,\\ \\ se\\ \\ n = 1 \\\\ n \\cdot fatorial(n - 1),\\ \\ se\\ \\  n > 1\\end{array}\\right.\n",
    "$$\n",
    "\n",
    "Que pode ser traduzida em código Python como:"
   ]
  },
  {
   "cell_type": "code",
   "execution_count": null,
   "metadata": {},
   "outputs": [],
   "source": []
  },
  {
   "cell_type": "code",
   "execution_count": null,
   "metadata": {},
   "outputs": [],
   "source": []
  },
  {
   "cell_type": "code",
   "execution_count": null,
   "metadata": {},
   "outputs": [],
   "source": []
  },
  {
   "cell_type": "markdown",
   "metadata": {},
   "source": [
    "### Como definir uma função recursiva?\n",
    "\n",
    "A recursividade está essencialmente relacionada com o conceito de **repetição** e assim como nas estruturas de repetição (ou seja, `for` e `while`) precisamos tomar alguns cuidados para que a função não fique chamando a si mesma \"para sempre\" (numa espécie de loop infinito).\n",
    "Para definir uma função recursiva corretamente, ou seja, garantindo que ela não vai rodar para sempre, é necessário que ela possua as seguintes propriedades:\n",
    "\n",
    "1. Deve haver um caso base (caso final), no qual a função não chama a si própria, mas retorna um valor específico.\n",
    "2. O passo recursivo deve ser diferente da chamada atual, e deve caminhar para o caso base.\n",
    "\n",
    "O caso base indica quando a recursão irá \"parar\". Ou seja, ao atingir o caso base o programa não fará outra chamada recursiva.\n",
    "Veja a primeira linha da definição de fatorial acima, essa linha define o caso base. Para saber o fatorial de um número qualquer precisamos multiplicá-lo pelo fatorial do número anterior (passo recursivo), exceto para o elemento \"base\", o zero, para o qual temos o valor dado pela definição, fatorial(0) = 1.\n",
    "\n",
    "O passo recursivo é onde a função chama a si mesma. Na definição acima, trata-se da segunda linha. Essa chamada deve ser atualizada para que a função \"ande em direção ao caso base\". Por exemplo, imagine que na definição de fatorial(n) houvesse uma chamada para o próprio fatorial(n), ou seja, um passo recursivo exatamente igual à chamada atual. Nesse caso a função jamais chegaria ao caso base e portanto ficaria em execução sem nunca retornar um valor."
   ]
  },
  {
   "cell_type": "markdown",
   "metadata": {},
   "source": [
    "---\n",
    "### Para praticar\n",
    "\n",
    "A sequência de Fibonacci é composta por uma sucessão de números descrita pelo famoso matemático italiano Leonardo de Pisa (1170-1250), mais conhecido como Fibonacci, no final do século 12. Essa sequência inicia normalmente por 0 e 1, e cada termo subsequente corresponde à soma dos dois anteriores.\n",
    "\n",
    "\n",
    "Os 11 primeiros termos da sequência de Fibonacci são:\n",
    "\n",
    "> 0, 1, 1, 2, 3, 5, 8, 13, 21, 34, 55...\n",
    "\n",
    "Crie um script para informar qual seria o n-ésimo elemento dessa sequência. Por exemplo, se o usuário solicitar o 8º elemento da sequência, o resultado deve ser 13. Para isso, utilize uma:\n",
    "\n",
    "1. Abordagem iterativa (while ou for)\n",
    "2. Abordagem recursiva\n",
    "\n",
    "\n",
    "![](https://media.tenor.com/images/56074b63a3b147fe7ac2ff71d3e9fc26/tenor.gif)"
   ]
  },
  {
   "cell_type": "code",
   "execution_count": null,
   "metadata": {},
   "outputs": [],
   "source": []
  },
  {
   "cell_type": "code",
   "execution_count": null,
   "metadata": {},
   "outputs": [],
   "source": []
  },
  {
   "cell_type": "code",
   "execution_count": null,
   "metadata": {},
   "outputs": [],
   "source": []
  },
  {
   "cell_type": "code",
   "execution_count": null,
   "metadata": {},
   "outputs": [],
   "source": []
  },
  {
   "cell_type": "code",
   "execution_count": null,
   "metadata": {},
   "outputs": [],
   "source": []
  },
  {
   "cell_type": "markdown",
   "metadata": {},
   "source": [
    "## 3. Funções com parâmetros variáveis"
   ]
  },
  {
   "cell_type": "markdown",
   "metadata": {},
   "source": [
    "### 3.1. Agrupando parâmetros"
   ]
  },
  {
   "cell_type": "code",
   "execution_count": null,
   "metadata": {},
   "outputs": [],
   "source": []
  },
  {
   "cell_type": "code",
   "execution_count": null,
   "metadata": {},
   "outputs": [],
   "source": []
  },
  {
   "cell_type": "code",
   "execution_count": null,
   "metadata": {},
   "outputs": [],
   "source": []
  },
  {
   "cell_type": "markdown",
   "metadata": {},
   "source": [
    "### 3.2. Parâmetros Opcionais"
   ]
  },
  {
   "cell_type": "code",
   "execution_count": null,
   "metadata": {},
   "outputs": [],
   "source": []
  },
  {
   "cell_type": "code",
   "execution_count": null,
   "metadata": {},
   "outputs": [],
   "source": []
  },
  {
   "cell_type": "code",
   "execution_count": null,
   "metadata": {},
   "outputs": [],
   "source": []
  }
 ],
 "metadata": {
  "kernelspec": {
   "display_name": "Python 3 (ipykernel)",
   "language": "python",
   "name": "python3"
  },
  "language_info": {
   "codemirror_mode": {
    "name": "ipython",
    "version": 3
   },
   "file_extension": ".py",
   "mimetype": "text/x-python",
   "name": "python",
   "nbconvert_exporter": "python",
   "pygments_lexer": "ipython3",
   "version": "3.9.7"
  }
 },
 "nbformat": 4,
 "nbformat_minor": 4
}
