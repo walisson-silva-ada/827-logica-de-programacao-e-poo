{
 "cells": [
  {
   "cell_type": "markdown",
   "id": "024b731d",
   "metadata": {},
   "source": [
    "# 02 - Operadores Lógicos e Estruturas Condicionais\n",
    "---\n",
    "\n",
    "<img src=\"https://selecao.letscode.com.br/favicon.png\" width=\"40px\" style=\"position: absolute; top: 0px; right: 40px; border-radius: 5px;\" />"
   ]
  },
  {
   "cell_type": "markdown",
   "id": "f7e4df17",
   "metadata": {},
   "source": [
    "Vamos explorar os seguintes tópicos em Python:\n",
    "\n",
    "- Operadores lógicos;\n",
    "- Estruturas condicionais."
   ]
  },
  {
   "cell_type": "markdown",
   "id": "c38644f2",
   "metadata": {},
   "source": [
    "# Habilidades a serem desenvolvidas"
   ]
  },
  {
   "cell_type": "markdown",
   "id": "efba729e",
   "metadata": {},
   "source": [
    "Ao final da aula o aluno deve:\n",
    "\n",
    "- Saber o conceito de operações lógicas e o seu resultado (True/False);\n",
    "- Saber interpretar e utilizar os operadores de comparação;\n",
    "- Saber interpretar e uitlizar os operadores de conjunção;\n",
    "- Saber formular expressões lógicas;\n",
    "- Saber formular expressões condicionais, articulando corretamente as expressões lógicas."
   ]
  },
  {
   "cell_type": "markdown",
   "id": "7bbe923d",
   "metadata": {},
   "source": [
    "# Operadores lógicos"
   ]
  },
  {
   "cell_type": "markdown",
   "id": "047a1ba5",
   "metadata": {},
   "source": [
    "## Comparação\n",
    "\n",
    "Em muitos problemas de programação, há necessidade de se fazer **comparações** entre variáveis.\n",
    "\n",
    "Por exemplo:\n",
    "\n",
    "- checar se um número é maior que outro;\n",
    "- checar se uma variável é igual a outra;\n",
    "- checar se há números diferentes; etc.\n",
    "\n",
    "Para fazer essas comparações, utilizamos os **operadores lógicos de comparação**. Em Python, há 6 desses operadores:\n",
    "\n",
    "- Maior que: >\n",
    "- Maior ou igual: >=\n",
    "- Menor que: <\n",
    "- Menor ou igual: <=\n",
    "- Igual: ==\n",
    "- Diferente: !=\n",
    "\n",
    "O resultado de uma comparação sempre vai ser um booleano, isto é, **True** ou **False**!\n",
    "\n",
    "Dica: sempre leia as comparações como uma **pergunta**\n",
    "\n",
    "- Ex: \"numero < 100\", leia: \"o valor na variável numero é menor que 100?\"\n",
    "\n",
    "Os operadores de comparação são destacados em **roxo** no Jupyter"
   ]
  },
  {
   "cell_type": "code",
   "execution_count": 1,
   "id": "da260a74",
   "metadata": {
    "ExecuteTime": {
     "end_time": "2021-07-07T19:41:36.613037Z",
     "start_time": "2021-07-07T19:41:36.594037Z"
    }
   },
   "outputs": [],
   "source": [
    "# checar se um número é maior que outro\n",
    "idade = 20"
   ]
  },
  {
   "cell_type": "code",
   "execution_count": 2,
   "id": "ce974dd3",
   "metadata": {
    "ExecuteTime": {
     "end_time": "2021-07-07T19:41:53.195760Z",
     "start_time": "2021-07-07T19:41:53.179294Z"
    }
   },
   "outputs": [
    {
     "data": {
      "text/plain": [
       "False"
      ]
     },
     "execution_count": 2,
     "metadata": {},
     "output_type": "execute_result"
    }
   ],
   "source": [
    "idade > 20"
   ]
  },
  {
   "cell_type": "code",
   "execution_count": 4,
   "id": "5f763ef9",
   "metadata": {
    "ExecuteTime": {
     "end_time": "2021-07-07T19:42:06.375968Z",
     "start_time": "2021-07-07T19:42:06.360973Z"
    }
   },
   "outputs": [
    {
     "data": {
      "text/plain": [
       "True"
      ]
     },
     "execution_count": 4,
     "metadata": {},
     "output_type": "execute_result"
    }
   ],
   "source": [
    "idade == 20"
   ]
  },
  {
   "cell_type": "code",
   "execution_count": 5,
   "id": "be99988f",
   "metadata": {
    "ExecuteTime": {
     "end_time": "2021-07-07T19:42:51.645455Z",
     "start_time": "2021-07-07T19:42:51.634799Z"
    }
   },
   "outputs": [
    {
     "data": {
      "text/plain": [
       "False"
      ]
     },
     "execution_count": 5,
     "metadata": {},
     "output_type": "execute_result"
    }
   ],
   "source": [
    "idade != 20"
   ]
  },
  {
   "cell_type": "code",
   "execution_count": 6,
   "id": "5b338e89",
   "metadata": {
    "ExecuteTime": {
     "end_time": "2021-07-07T19:43:23.371966Z",
     "start_time": "2021-07-07T19:43:23.364968Z"
    }
   },
   "outputs": [
    {
     "data": {
      "text/plain": [
       "True"
      ]
     },
     "execution_count": 6,
     "metadata": {},
     "output_type": "execute_result"
    }
   ],
   "source": [
    "idade >= 20"
   ]
  },
  {
   "cell_type": "code",
   "execution_count": 7,
   "id": "e96569bb",
   "metadata": {
    "ExecuteTime": {
     "end_time": "2021-07-07T19:43:00.189080Z",
     "start_time": "2021-07-07T19:43:00.174061Z"
    }
   },
   "outputs": [
    {
     "data": {
      "text/plain": [
       "True"
      ]
     },
     "execution_count": 7,
     "metadata": {},
     "output_type": "execute_result"
    }
   ],
   "source": [
    "idade <= 20"
   ]
  },
  {
   "cell_type": "code",
   "execution_count": 8,
   "id": "fd8fc18d",
   "metadata": {
    "ExecuteTime": {
     "end_time": "2021-07-07T19:43:55.764866Z",
     "start_time": "2021-07-07T19:43:55.746881Z"
    }
   },
   "outputs": [],
   "source": [
    "# Utilizando variáveis nas comparações\n",
    "idade_a = 10\n",
    "idade_b = 20"
   ]
  },
  {
   "cell_type": "code",
   "execution_count": 9,
   "id": "75783764",
   "metadata": {
    "ExecuteTime": {
     "end_time": "2021-07-07T19:44:06.001889Z",
     "start_time": "2021-07-07T19:44:05.993492Z"
    }
   },
   "outputs": [
    {
     "data": {
      "text/plain": [
       "False"
      ]
     },
     "execution_count": 9,
     "metadata": {},
     "output_type": "execute_result"
    }
   ],
   "source": [
    "idade_a > idade_b"
   ]
  },
  {
   "cell_type": "markdown",
   "id": "8279fbb8",
   "metadata": {},
   "source": [
    "### Note a diferença\n",
    "\n",
    "- `numero = 10`: variável numero \"recebe\" o valor 10\n",
    "- `numero == 10`: pergunta se a variável numero é igual a 10"
   ]
  },
  {
   "cell_type": "markdown",
   "id": "8355fedc",
   "metadata": {},
   "source": [
    "#### Podemos também comparar strings!"
   ]
  },
  {
   "cell_type": "code",
   "execution_count": 11,
   "id": "02bfe791",
   "metadata": {
    "ExecuteTime": {
     "end_time": "2021-07-07T19:46:28.075468Z",
     "start_time": "2021-07-07T19:46:28.064470Z"
    }
   },
   "outputs": [],
   "source": [
    "# definir variável uma string\n",
    "fruta1 = 'tangerina'"
   ]
  },
  {
   "cell_type": "code",
   "execution_count": 12,
   "id": "7d030587",
   "metadata": {},
   "outputs": [],
   "source": [
    "fruta2 = 'morango'"
   ]
  },
  {
   "cell_type": "code",
   "execution_count": 13,
   "id": "41e8e121",
   "metadata": {
    "ExecuteTime": {
     "end_time": "2021-07-07T19:46:38.260959Z",
     "start_time": "2021-07-07T19:46:38.254949Z"
    }
   },
   "outputs": [
    {
     "data": {
      "text/plain": [
       "True"
      ]
     },
     "execution_count": 13,
     "metadata": {},
     "output_type": "execute_result"
    }
   ],
   "source": [
    "# pra igualdade existir, tem que haver uma correspondência EXATA entre as strings!\n",
    "fruta1 > fruta2"
   ]
  },
  {
   "cell_type": "code",
   "execution_count": 14,
   "id": "7c3f3856",
   "metadata": {},
   "outputs": [
    {
     "data": {
      "text/plain": [
       "False"
      ]
     },
     "execution_count": 14,
     "metadata": {},
     "output_type": "execute_result"
    }
   ],
   "source": [
    "'jabuticaba' > fruta1"
   ]
  },
  {
   "cell_type": "code",
   "execution_count": 15,
   "id": "a9a3d1d4",
   "metadata": {},
   "outputs": [
    {
     "data": {
      "text/plain": [
       "10"
      ]
     },
     "execution_count": 15,
     "metadata": {},
     "output_type": "execute_result"
    }
   ],
   "source": [
    "len('jabuticaba')"
   ]
  },
  {
   "cell_type": "code",
   "execution_count": 16,
   "id": "9652bcc8",
   "metadata": {},
   "outputs": [
    {
     "data": {
      "text/plain": [
       "9"
      ]
     },
     "execution_count": 16,
     "metadata": {},
     "output_type": "execute_result"
    }
   ],
   "source": [
    "len(fruta1)"
   ]
  },
  {
   "cell_type": "code",
   "execution_count": 17,
   "id": "0c852841",
   "metadata": {},
   "outputs": [
    {
     "data": {
      "text/plain": [
       "True"
      ]
     },
     "execution_count": 17,
     "metadata": {},
     "output_type": "execute_result"
    }
   ],
   "source": [
    "fruta1 > fruta2"
   ]
  },
  {
   "cell_type": "code",
   "execution_count": 18,
   "id": "5e177454",
   "metadata": {},
   "outputs": [
    {
     "data": {
      "text/plain": [
       "False"
      ]
     },
     "execution_count": 18,
     "metadata": {},
     "output_type": "execute_result"
    }
   ],
   "source": [
    "'A' > 'a'"
   ]
  },
  {
   "cell_type": "code",
   "execution_count": 20,
   "id": "ae86dc43",
   "metadata": {},
   "outputs": [
    {
     "data": {
      "text/plain": [
       "65"
      ]
     },
     "execution_count": 20,
     "metadata": {},
     "output_type": "execute_result"
    }
   ],
   "source": [
    "ord('A') # Convertendo o caracter para o seu valor na tabela ASCII"
   ]
  },
  {
   "cell_type": "code",
   "execution_count": 21,
   "id": "1fde769f",
   "metadata": {},
   "outputs": [
    {
     "data": {
      "text/plain": [
       "'A'"
      ]
     },
     "execution_count": 21,
     "metadata": {},
     "output_type": "execute_result"
    }
   ],
   "source": [
    "chr(65)"
   ]
  },
  {
   "cell_type": "code",
   "execution_count": 22,
   "id": "b55e9419",
   "metadata": {},
   "outputs": [
    {
     "data": {
      "text/plain": [
       "'a'"
      ]
     },
     "execution_count": 22,
     "metadata": {},
     "output_type": "execute_result"
    }
   ],
   "source": [
    "chr(97)"
   ]
  },
  {
   "cell_type": "code",
   "execution_count": 25,
   "id": "97cab0c5",
   "metadata": {},
   "outputs": [
    {
     "data": {
      "text/plain": [
       "True"
      ]
     },
     "execution_count": 25,
     "metadata": {},
     "output_type": "execute_result"
    }
   ],
   "source": [
    "'abacate' < 'abacaxi'"
   ]
  },
  {
   "cell_type": "code",
   "execution_count": 28,
   "id": "dc489b19",
   "metadata": {},
   "outputs": [
    {
     "data": {
      "text/plain": [
       "True"
      ]
     },
     "execution_count": 28,
     "metadata": {},
     "output_type": "execute_result"
    }
   ],
   "source": [
    "'abacaxi' == 'abacaxi'"
   ]
  },
  {
   "cell_type": "code",
   "execution_count": 31,
   "id": "830bffea",
   "metadata": {
    "ExecuteTime": {
     "end_time": "2021-07-07T19:47:32.029850Z",
     "start_time": "2021-07-07T19:47:32.025851Z"
    }
   },
   "outputs": [
    {
     "data": {
      "text/plain": [
       "False"
      ]
     },
     "execution_count": 31,
     "metadata": {},
     "output_type": "execute_result"
    }
   ],
   "source": [
    "# qualquer diferença, por mínima que seja, torna a igualdade falsa!\n",
    "'abacaxi' == 'abacaxI'"
   ]
  },
  {
   "cell_type": "code",
   "execution_count": 32,
   "id": "bf4c376d",
   "metadata": {},
   "outputs": [
    {
     "data": {
      "text/plain": [
       "True"
      ]
     },
     "execution_count": 32,
     "metadata": {},
     "output_type": "execute_result"
    }
   ],
   "source": [
    "'abacaxi' == 'abacaxI'.lower()"
   ]
  },
  {
   "cell_type": "markdown",
   "id": "074fc7d8",
   "metadata": {},
   "source": [
    "Os operadores >, >=, <, <= atuam comparando **ordem alfabética** quando aplicados a strings.\n",
    "\n",
    "(Obs.: se surgir interesse, mencionar aqui sobre a tabela ASCII e como de fato ocorre a comparação de ordem entre strings)"
   ]
  },
  {
   "cell_type": "markdown",
   "id": "170451be",
   "metadata": {},
   "source": [
    "Podemos fazer comparação entre **tipos numéricos** diferentes (int e float):"
   ]
  },
  {
   "cell_type": "markdown",
   "id": "d0466468",
   "metadata": {},
   "source": [
    "Mas comparações entre string e tipos numéricos são possíveis **apenas para == e !=**:\n"
   ]
  },
  {
   "cell_type": "code",
   "execution_count": 34,
   "id": "69720c58",
   "metadata": {},
   "outputs": [
    {
     "data": {
      "text/plain": [
       "float"
      ]
     },
     "execution_count": 34,
     "metadata": {},
     "output_type": "execute_result"
    }
   ],
   "source": [
    "type(10.0)"
   ]
  },
  {
   "cell_type": "code",
   "execution_count": 33,
   "id": "8cd70ba4",
   "metadata": {
    "ExecuteTime": {
     "end_time": "2021-07-07T19:54:35.251979Z",
     "start_time": "2021-07-07T19:54:35.239457Z"
    }
   },
   "outputs": [
    {
     "data": {
      "text/plain": [
       "True"
      ]
     },
     "execution_count": 33,
     "metadata": {},
     "output_type": "execute_result"
    }
   ],
   "source": [
    "# definindo uma string e um int\n",
    "10 == 10.0"
   ]
  },
  {
   "cell_type": "code",
   "execution_count": 36,
   "id": "aa91f182",
   "metadata": {
    "ExecuteTime": {
     "end_time": "2021-07-07T19:55:01.944598Z",
     "start_time": "2021-07-07T19:55:01.935629Z"
    }
   },
   "outputs": [
    {
     "data": {
      "text/plain": [
       "int"
      ]
     },
     "execution_count": 36,
     "metadata": {},
     "output_type": "execute_result"
    }
   ],
   "source": [
    "type(idade)"
   ]
  },
  {
   "cell_type": "code",
   "execution_count": 37,
   "id": "d5833010",
   "metadata": {
    "ExecuteTime": {
     "end_time": "2021-07-07T19:55:18.816185Z",
     "start_time": "2021-07-07T19:55:18.807186Z"
    }
   },
   "outputs": [
    {
     "data": {
      "text/plain": [
       "True"
      ]
     },
     "execution_count": 37,
     "metadata": {},
     "output_type": "execute_result"
    }
   ],
   "source": [
    "type(idade) == int"
   ]
  },
  {
   "cell_type": "code",
   "execution_count": 38,
   "id": "3a6a9223",
   "metadata": {
    "ExecuteTime": {
     "end_time": "2021-07-07T19:55:36.048130Z",
     "start_time": "2021-07-07T19:55:36.034129Z"
    }
   },
   "outputs": [
    {
     "data": {
      "text/plain": [
       "False"
      ]
     },
     "execution_count": 38,
     "metadata": {},
     "output_type": "execute_result"
    }
   ],
   "source": [
    "type(idade) == 'int'"
   ]
  },
  {
   "cell_type": "code",
   "execution_count": 40,
   "id": "db01c7f2",
   "metadata": {
    "ExecuteTime": {
     "end_time": "2021-07-07T19:55:58.874639Z",
     "start_time": "2021-07-07T19:55:58.866633Z"
    }
   },
   "outputs": [
    {
     "data": {
      "text/plain": [
       "True"
      ]
     },
     "execution_count": 40,
     "metadata": {},
     "output_type": "execute_result"
    }
   ],
   "source": [
    "10 == 10.0000000000000001"
   ]
  },
  {
   "cell_type": "code",
   "execution_count": 41,
   "id": "6db52c75",
   "metadata": {},
   "outputs": [
    {
     "data": {
      "text/plain": [
       "False"
      ]
     },
     "execution_count": 41,
     "metadata": {},
     "output_type": "execute_result"
    }
   ],
   "source": [
    "10 == 10.000000000000001"
   ]
  },
  {
   "cell_type": "code",
   "execution_count": 43,
   "id": "e14d3f88",
   "metadata": {},
   "outputs": [],
   "source": [
    "from math import factorial"
   ]
  },
  {
   "cell_type": "code",
   "execution_count": 49,
   "id": "082c9f53",
   "metadata": {},
   "outputs": [
    {
     "data": {
      "text/plain": [
       "93326215443944152681699238856266700490715968264381621468592963895217599993229915608941463976156518286253697920827223758251185210916864000000000000000000000000"
      ]
     },
     "execution_count": 49,
     "metadata": {},
     "output_type": "execute_result"
    }
   ],
   "source": [
    "factorial(100)"
   ]
  },
  {
   "cell_type": "markdown",
   "id": "b91e3611",
   "metadata": {},
   "source": [
    "O erro acima aconteceu porque **não é possível comparar a orderm (usando >, >=, <, <=)** de variáveis numéricas e strings!"
   ]
  },
  {
   "cell_type": "markdown",
   "id": "3effcc0e",
   "metadata": {},
   "source": [
    "## Conjunção \n",
    "\n",
    "Além dos operadores lógicos de comparação, também temos os **operadores lógicos de conjunção**, que são utilizados pra fazer uma **combinação** entre comparações. \n",
    "\n",
    "Os operadores de conjunção são: **and** e **or**, e eles seguem a seguinte regra:\n",
    "\n",
    "- **and** só é True se **ambas** as comparações forem True:\n",
    "    - False and True resulta em \"False\"\n",
    "    - False and False resulta em \"False\"\n",
    "    - True and True resulta em \"True\"\n",
    "    \n",
    "    \n",
    "- **or** é True se **pelo menos uma** das comparações for True:\n",
    "    - False or True resulta em \"True\"\n",
    "    - True or True resulta em \"True\"\n",
    "    - False or False resulta em \"False\"\n",
    "\n",
    "Os operadores de conjunção são destacados em **verde escuro** no Jupyter"
   ]
  },
  {
   "cell_type": "code",
   "execution_count": 50,
   "id": "52314e1d",
   "metadata": {
    "ExecuteTime": {
     "end_time": "2021-07-07T19:59:59.266344Z",
     "start_time": "2021-07-07T19:59:59.253775Z"
    }
   },
   "outputs": [
    {
     "name": "stdout",
     "output_type": "stream",
     "text": [
      "Operador and:\n",
      "True\n",
      "False\n",
      "False\n",
      "False\n"
     ]
    }
   ],
   "source": [
    "print(\"Operador and:\")\n",
    "\n",
    "print(True and True)\n",
    "print(False and False)\n",
    "print(True and False)\n",
    "print(False and True)"
   ]
  },
  {
   "cell_type": "code",
   "execution_count": 51,
   "id": "de550acc",
   "metadata": {
    "ExecuteTime": {
     "end_time": "2021-07-07T20:04:02.772032Z",
     "start_time": "2021-07-07T20:04:02.767034Z"
    }
   },
   "outputs": [
    {
     "name": "stdout",
     "output_type": "stream",
     "text": [
      "Operador or:\n",
      "True\n",
      "True\n",
      "True\n",
      "False\n"
     ]
    }
   ],
   "source": [
    "print(\"Operador or:\")\n",
    "\n",
    "print(True or True)\n",
    "print(True or False)\n",
    "print(False or True)\n",
    "print(False or False)"
   ]
  },
  {
   "cell_type": "code",
   "execution_count": 52,
   "id": "38397514",
   "metadata": {
    "ExecuteTime": {
     "end_time": "2021-07-07T20:04:20.608589Z",
     "start_time": "2021-07-07T20:04:20.603582Z"
    }
   },
   "outputs": [
    {
     "data": {
      "text/plain": [
       "False"
      ]
     },
     "execution_count": 52,
     "metadata": {},
     "output_type": "execute_result"
    }
   ],
   "source": [
    "not True"
   ]
  },
  {
   "cell_type": "markdown",
   "id": "b2e31360",
   "metadata": {},
   "source": [
    "### Observação!\n",
    "\n",
    "Se tivermos mais de duas comparações pra fazer conjunção, é melhor usarmos parênteses.\n",
    "\n",
    "Primeiro a conjunção entre parênteses é feita, e depois o resultado é usado pra avaliar a conjunção total"
   ]
  },
  {
   "cell_type": "code",
   "execution_count": 53,
   "id": "0a3900bb",
   "metadata": {},
   "outputs": [
    {
     "data": {
      "text/plain": [
       "20"
      ]
     },
     "execution_count": 53,
     "metadata": {},
     "output_type": "execute_result"
    }
   ],
   "source": [
    "idade"
   ]
  },
  {
   "cell_type": "code",
   "execution_count": 54,
   "id": "baa849c8",
   "metadata": {},
   "outputs": [
    {
     "data": {
      "text/plain": [
       "True"
      ]
     },
     "execution_count": 54,
     "metadata": {},
     "output_type": "execute_result"
    }
   ],
   "source": [
    "idade >= 18 and idade < 60 or idade < 15"
   ]
  },
  {
   "cell_type": "markdown",
   "id": "df2f027b",
   "metadata": {},
   "source": [
    "# Estruturas condicionais\n",
    "\n",
    "\n",
    "> Estruturas de Controle de Fluxo"
   ]
  },
  {
   "cell_type": "markdown",
   "id": "2f7f2325",
   "metadata": {},
   "source": [
    "\n",
    "O principal uso dos operadores lógicos é em **estruturas condicionais**\n",
    "\n",
    "Esse tipo de estrutura é utilizada para tratar casos diferentes dentro do código\n",
    "\n",
    "Os **operadores condicionais** são: **if**, **elif** e **else**\n",
    "\n",
    "- **if**: Se uma condição for verdadeira, faça determinada operação.\n",
    "- **elif**: Se a condição acima for falsa, avalie uma próxima condição, e se essa for verdadeira, faça outra operação\n",
    "- **else**: Se nenhuma das condições acima for verdadeira, faça outra coisa\n",
    "\n",
    "O uso de elif e else **não** é obrigatório! (Mas é muitas vezes conveniente!)\n",
    "\n",
    "As estruturas de repetição aparecem em **blocos identados (com \"tab\") após dois pontos**, na seguinte estrutura:\n",
    "\n",
    "```python\n",
    "if (condicao_1 é True):\n",
    "    operacoes_1\n",
    "elif (condicao_2 é True):\n",
    "    operacoes_2\n",
    "else:\n",
    "    operacoes\n",
    "```\n",
    "\n",
    "- Se alguma condição no if ou elif for verdadeira, todo o resto é ignorado!\n",
    "- Por isso, as condições no if e os diferentes elifs sempre são **excludentes**\n",
    "\n",
    "Os operadores condicionais são destacados em **verde escuro** no Jupyter\n"
   ]
  },
  {
   "cell_type": "markdown",
   "id": "79f908b5",
   "metadata": {},
   "source": [
    "**Exemplo**: imagine que uma escola tem o seguinte critério de avaliação baseado na média do aluno:\n",
    "\n",
    "- se a média for maior ou igual a 5, o aluno é aprovado;\n",
    "- caso contrário, o aluno é reprovado\n"
   ]
  },
  {
   "cell_type": "code",
   "execution_count": 55,
   "id": "c0bee0ad",
   "metadata": {},
   "outputs": [],
   "source": [
    "a, b = 10, 20"
   ]
  },
  {
   "cell_type": "code",
   "execution_count": 58,
   "id": "c7d37823",
   "metadata": {
    "ExecuteTime": {
     "end_time": "2021-07-07T20:26:46.692549Z",
     "start_time": "2021-07-07T20:26:46.676018Z"
    }
   },
   "outputs": [
    {
     "name": "stdout",
     "output_type": "stream",
     "text": [
      "Reprovada(o)!\n"
     ]
    }
   ],
   "source": [
    "media_do_aluno = float(input('Informe a média do aluno: '))\n",
    "\n",
    "if media_do_aluno >= 5:\n",
    "  print('Aprovada(o)!')\n",
    "else:\n",
    "  print('Reprovada(o)!')"
   ]
  },
  {
   "cell_type": "markdown",
   "id": "683a024d",
   "metadata": {},
   "source": [
    "Também podemos usar o elif. Vamos considerar que:\n",
    "\n",
    "- se a média for maior ou igual a 7, o aluno é aprovado\n",
    "- se a média for maior ou igual a 5, o aluno tem direito a recuperação\n",
    "- caso contrário, o aluno é reprovado"
   ]
  },
  {
   "cell_type": "code",
   "execution_count": 61,
   "id": "65a27316",
   "metadata": {
    "ExecuteTime": {
     "end_time": "2021-07-07T20:31:51.722872Z",
     "start_time": "2021-07-07T20:31:51.709370Z"
    }
   },
   "outputs": [
    {
     "name": "stdout",
     "output_type": "stream",
     "text": [
      "Aprovada(o)!\n"
     ]
    }
   ],
   "source": [
    "media_do_aluno = float(input('Informe a média do aluno: '))\n",
    "\n",
    "if media_do_aluno >= 7:\n",
    "  print('Aprovada(o)!')\n",
    "elif media_do_aluno >= 5:\n",
    "  print('Recuperação')\n",
    "else:\n",
    "  print('Reprovada(o)!')"
   ]
  },
  {
   "cell_type": "markdown",
   "id": "17f2fd02",
   "metadata": {},
   "source": [
    "**Exemplo**: imagine que uma escola tem o seguinte critério de avaliação baseado na **media** do aluno e em sua **frequência**\n",
    "\n",
    "- regra 1: se a média for maior ou igual a 9, o aluno é aprovado, independente da frequencia;\n",
    "- regra 2: se a média estiver entre 6 e 9, o aluno só é aprovado se a frequencia for maior ou igual a 75%\n",
    "- regra 3: se a média estiver entre 6 e 9, mas a frequencia for menor que 75%, ele vai pra recuperação\n",
    "- regra 4: se a média for menor que 6 e a frequencia do aluno for maior ou igual a 75%, ele pode fazer recuperação\n",
    "- regra 5: se a média for menor que 6 e a frequência do aluno for menor que a 75%, ele é automaticamente reprovado\n",
    "\n",
    "Como implementamos este algoritmo?"
   ]
  },
  {
   "cell_type": "code",
   "execution_count": 68,
   "id": "2895dd1c",
   "metadata": {
    "ExecuteTime": {
     "end_time": "2021-07-07T20:55:56.750288Z",
     "start_time": "2021-07-07T20:55:51.988782Z"
    }
   },
   "outputs": [
    {
     "name": "stdout",
     "output_type": "stream",
     "text": [
      "Recuperação\n"
     ]
    }
   ],
   "source": [
    "media = 5.9\n",
    "presenca = 75\n",
    "\n",
    "approved_message = 'Passou! 🙌'\n",
    "recuperacao_message = 'Recuperação'\n",
    "reproved_message = 'Reprovado 😢'\n",
    "\n",
    "if media >= 9:\n",
    "  print(approved_message)\n",
    "elif media >= 6 and presenca >= 75:\n",
    "  print(approved_message)\n",
    "elif media >= 6 and presenca < 75:\n",
    "  print(recuperacao_message)\n",
    "elif presenca >= 75:\n",
    "  print(recuperacao_message)\n",
    "else:\n",
    "  print(reproved_message)\n"
   ]
  },
  {
   "cell_type": "markdown",
   "id": "c332f38e",
   "metadata": {},
   "source": [
    "## Exercício"
   ]
  },
  {
   "cell_type": "markdown",
   "id": "1a27612c",
   "metadata": {},
   "source": [
    "Faça um programa que peça dois números e mostre o maior deles."
   ]
  },
  {
   "cell_type": "code",
   "execution_count": null,
   "id": "bf32810d",
   "metadata": {},
   "outputs": [],
   "source": []
  }
 ],
 "metadata": {
  "kernelspec": {
   "display_name": "Python 3",
   "language": "python",
   "name": "python3"
  },
  "language_info": {
   "codemirror_mode": {
    "name": "ipython",
    "version": 3
   },
   "file_extension": ".py",
   "mimetype": "text/x-python",
   "name": "python",
   "nbconvert_exporter": "python",
   "pygments_lexer": "ipython3",
   "version": "3.9.7"
  },
  "toc": {
   "base_numbering": 1,
   "nav_menu": {},
   "number_sections": true,
   "sideBar": true,
   "skip_h1_title": false,
   "title_cell": "Table of Contents",
   "title_sidebar": "Contents",
   "toc_cell": false,
   "toc_position": {},
   "toc_section_display": true,
   "toc_window_display": true
  },
  "varInspector": {
   "cols": {
    "lenName": 16,
    "lenType": 16,
    "lenVar": 40
   },
   "kernels_config": {
    "python": {
     "delete_cmd_postfix": "",
     "delete_cmd_prefix": "del ",
     "library": "var_list.py",
     "varRefreshCmd": "print(var_dic_list())"
    },
    "r": {
     "delete_cmd_postfix": ") ",
     "delete_cmd_prefix": "rm(",
     "library": "var_list.r",
     "varRefreshCmd": "cat(var_dic_list()) "
    }
   },
   "types_to_exclude": [
    "module",
    "function",
    "builtin_function_or_method",
    "instance",
    "_Feature"
   ],
   "window_display": false
  }
 },
 "nbformat": 4,
 "nbformat_minor": 5
}
