{
 "cells": [
  {
   "cell_type": "markdown",
   "id": "1799dc7d",
   "metadata": {},
   "source": [
    "# 04 - Strings\n",
    "---\n",
    "\n",
    "<img src=\"https://selecao.letscode.com.br/favicon.png\" width=\"40px\" style=\"position: absolute; top: 0px; right: 40px; border-radius: 5px;\" />"
   ]
  },
  {
   "cell_type": "markdown",
   "id": "eb529c28",
   "metadata": {},
   "source": [
    "\n",
    "Desde a primeira aula, temos trabalhado com strings, que, como vimos, representam **dados textuais**.\n",
    "\n",
    "Vamos, agora, olhar pra strings um pouco mais a fundo, e aprender algumas funções para trabalharmos com strings."
   ]
  },
  {
   "cell_type": "markdown",
   "id": "315df382",
   "metadata": {},
   "source": [
    "Uma string nada mais é do que uma **coleção de caracteres**!\n",
    "\n",
    "## Indexação e slices\n",
    "\n",
    "Assim, podemos acessar caracteres específicos ou então um intervalo de caracteres de uma string, como se fosse uma lista!\n",
    "\n",
    "**OBS.: Para strings também, o índice começa em 0, e podemos usar índices negativos!**"
   ]
  },
  {
   "cell_type": "code",
   "execution_count": null,
   "id": "c06ddd5b",
   "metadata": {},
   "outputs": [],
   "source": []
  },
  {
   "cell_type": "code",
   "execution_count": null,
   "id": "2b586924",
   "metadata": {},
   "outputs": [],
   "source": []
  },
  {
   "cell_type": "code",
   "execution_count": null,
   "id": "c03742c3",
   "metadata": {},
   "outputs": [],
   "source": []
  },
  {
   "cell_type": "markdown",
   "id": "67eafa2a",
   "metadata": {},
   "source": [
    "### Percorrendo uma string com `for`\n",
    "\n",
    "Podemos também percorrer cada caractere da string com o `for` -- strings são objetos **iteráveis**:"
   ]
  },
  {
   "cell_type": "markdown",
   "id": "b09dc7a8",
   "metadata": {},
   "source": [
    "Dá pra fazer o mesmo com o range() e o len():"
   ]
  },
  {
   "cell_type": "code",
   "execution_count": null,
   "id": "f502f43c",
   "metadata": {},
   "outputs": [],
   "source": []
  },
  {
   "cell_type": "markdown",
   "id": "7c8593c9",
   "metadata": {},
   "source": [
    "**Não é possível alterar os caracteres de uma string!**"
   ]
  },
  {
   "cell_type": "code",
   "execution_count": null,
   "id": "7e87cfe1",
   "metadata": {},
   "outputs": [],
   "source": []
  },
  {
   "cell_type": "code",
   "execution_count": null,
   "id": "763bc01e",
   "metadata": {},
   "outputs": [],
   "source": []
  },
  {
   "cell_type": "markdown",
   "id": "02143626",
   "metadata": {},
   "source": [
    "Mas nós conseguimos **alterar caracteres (ou palavras)** com o método \"replace()\":"
   ]
  },
  {
   "cell_type": "code",
   "execution_count": null,
   "id": "23e3f6a8",
   "metadata": {},
   "outputs": [],
   "source": []
  },
  {
   "cell_type": "code",
   "execution_count": null,
   "id": "7f906acf",
   "metadata": {},
   "outputs": [],
   "source": []
  },
  {
   "cell_type": "markdown",
   "id": "3270ea29",
   "metadata": {},
   "source": [
    "Podemos **transformar uma string em uma lista de caracteres**, explicitamente, usando a fução \"list()\""
   ]
  },
  {
   "cell_type": "code",
   "execution_count": null,
   "id": "c3d2f2b5",
   "metadata": {},
   "outputs": [],
   "source": []
  },
  {
   "cell_type": "markdown",
   "id": "9b255e45",
   "metadata": {},
   "source": [
    "Agora sim, podemos alterar um elemento da lista:"
   ]
  },
  {
   "cell_type": "code",
   "execution_count": null,
   "id": "ab497dfd",
   "metadata": {},
   "outputs": [],
   "source": []
  },
  {
   "cell_type": "markdown",
   "id": "d8039e70",
   "metadata": {},
   "source": [
    "E, pra trtansformar a lista de volta pra string, usamos o método `join()`:"
   ]
  },
  {
   "cell_type": "code",
   "execution_count": null,
   "id": "6f125b1d",
   "metadata": {},
   "outputs": [],
   "source": []
  },
  {
   "cell_type": "markdown",
   "id": "52f04e61",
   "metadata": {},
   "source": [
    "**E como podemos fazer para juntar os números de uma lista em um único número \"string\"?**"
   ]
  },
  {
   "cell_type": "code",
   "execution_count": 1,
   "id": "adc8a98c",
   "metadata": {
    "ExecuteTime": {
     "end_time": "2021-07-12T20:18:55.483362Z",
     "start_time": "2021-07-12T20:18:55.463782Z"
    }
   },
   "outputs": [],
   "source": [
    "lista_num = [2, 0, 2, 2]\n"
   ]
  },
  {
   "cell_type": "code",
   "execution_count": 5,
   "id": "cf024b8d",
   "metadata": {
    "ExecuteTime": {
     "end_time": "2021-07-12T20:20:18.580015Z",
     "start_time": "2021-07-12T20:20:18.566470Z"
    }
   },
   "outputs": [],
   "source": [
    "# em uma única linha\n"
   ]
  },
  {
   "cell_type": "code",
   "execution_count": null,
   "id": "635a0cc2",
   "metadata": {},
   "outputs": [],
   "source": []
  },
  {
   "cell_type": "markdown",
   "id": "6e8397c3",
   "metadata": {},
   "source": [
    "## Operações entre strings"
   ]
  },
  {
   "cell_type": "markdown",
   "id": "90d4294d",
   "metadata": {},
   "source": [
    "**Soma de strings:** ao somar duas strings, elas são concatenadas:"
   ]
  },
  {
   "cell_type": "code",
   "execution_count": null,
   "id": "281f4106",
   "metadata": {},
   "outputs": [],
   "source": []
  },
  {
   "cell_type": "markdown",
   "id": "2daf4b1f",
   "metadata": {},
   "source": [
    "**Multiplicação de string por inteiro:** ao multiplicar uma string por um número inteiro, a string é repetida:"
   ]
  },
  {
   "cell_type": "code",
   "execution_count": null,
   "id": "4402b408",
   "metadata": {},
   "outputs": [],
   "source": []
  },
  {
   "cell_type": "markdown",
   "id": "a11e1c73",
   "metadata": {},
   "source": [
    "## Métodos de strings"
   ]
  },
  {
   "cell_type": "markdown",
   "id": "77043d60",
   "metadata": {},
   "source": [
    "Como listas, strings também têm algumas funções específicas. Algumas delas são:\n",
    "\n",
    "### `upper`\n",
    ".upper(): transforma todos os caracteres em maiúscula"
   ]
  },
  {
   "cell_type": "code",
   "execution_count": null,
   "id": "1018b70e",
   "metadata": {},
   "outputs": [],
   "source": []
  },
  {
   "cell_type": "code",
   "execution_count": null,
   "id": "5fc35299",
   "metadata": {},
   "outputs": [],
   "source": []
  },
  {
   "cell_type": "markdown",
   "id": "c877bf1c",
   "metadata": {},
   "source": [
    "### `lower`"
   ]
  },
  {
   "cell_type": "markdown",
   "id": "f19beba8",
   "metadata": {},
   "source": [
    ".lower(): trasnforma todos os caracteres em minúscula"
   ]
  },
  {
   "cell_type": "code",
   "execution_count": null,
   "id": "6d2ff2a5",
   "metadata": {},
   "outputs": [],
   "source": []
  },
  {
   "cell_type": "code",
   "execution_count": null,
   "id": "594a6c9d",
   "metadata": {},
   "outputs": [],
   "source": []
  },
  {
   "cell_type": "markdown",
   "id": "a0d1ab2a",
   "metadata": {},
   "source": [
    "### `title`"
   ]
  },
  {
   "cell_type": "markdown",
   "id": "120af932",
   "metadata": {},
   "source": [
    ".title(): deixa a primeira letra de cada palavra em maiúscula"
   ]
  },
  {
   "cell_type": "code",
   "execution_count": null,
   "id": "e74d3313",
   "metadata": {
    "ExecuteTime": {
     "end_time": "2021-07-12T20:26:49.331365Z",
     "start_time": "2021-07-12T20:26:49.314746Z"
    }
   },
   "outputs": [],
   "source": []
  },
  {
   "cell_type": "markdown",
   "id": "3c7a2127",
   "metadata": {},
   "source": [
    "### `capitalize`"
   ]
  },
  {
   "cell_type": "markdown",
   "id": "d56eb4b8",
   "metadata": {},
   "source": [
    ".capitalize(): deixa a primeira letra da primeira palavra em maiúscula"
   ]
  },
  {
   "cell_type": "code",
   "execution_count": null,
   "id": "44527f6e",
   "metadata": {},
   "outputs": [],
   "source": []
  },
  {
   "cell_type": "markdown",
   "id": "0a403e7f",
   "metadata": {},
   "source": [
    "### `split`"
   ]
  },
  {
   "cell_type": "markdown",
   "id": "fdc2668f",
   "metadata": {},
   "source": [
    "É possível quebrar uma string em determinado caractere, tendo como resultado uma **lista com os caracteres além da quebra**.\n",
    "\n",
    "- Para quebrar nos espaços, use a função \".split()\", sem argumento"
   ]
  },
  {
   "cell_type": "code",
   "execution_count": null,
   "id": "be68bda0",
   "metadata": {},
   "outputs": [],
   "source": []
  },
  {
   "cell_type": "code",
   "execution_count": null,
   "id": "85a72afd",
   "metadata": {},
   "outputs": [],
   "source": []
  },
  {
   "cell_type": "markdown",
   "id": "b0769062",
   "metadata": {},
   "source": [
    "- Para quebrar em algum caracter, use o caractere como argumento:"
   ]
  },
  {
   "cell_type": "code",
   "execution_count": null,
   "id": "be6d85ca",
   "metadata": {},
   "outputs": [],
   "source": []
  },
  {
   "cell_type": "markdown",
   "id": "1498fb88",
   "metadata": {},
   "source": [
    "### strip"
   ]
  },
  {
   "cell_type": "markdown",
   "id": "a4a5de0a",
   "metadata": {},
   "source": [
    "__Tirar espaços que tão sobrando no fim e no início da string__\n",
    "\n",
    "Utilize a função strip()"
   ]
  },
  {
   "cell_type": "code",
   "execution_count": null,
   "id": "4a543fec",
   "metadata": {},
   "outputs": [],
   "source": []
  },
  {
   "cell_type": "code",
   "execution_count": null,
   "id": "91fe58e7",
   "metadata": {},
   "outputs": [],
   "source": []
  },
  {
   "cell_type": "code",
   "execution_count": null,
   "id": "2003c684",
   "metadata": {},
   "outputs": [],
   "source": []
  },
  {
   "cell_type": "markdown",
   "id": "12104998",
   "metadata": {},
   "source": [
    "Mas essa função não elimina espaços extrar no \"meio\" da string -- apenas no início e no fim!"
   ]
  },
  {
   "cell_type": "code",
   "execution_count": null,
   "id": "c232058c",
   "metadata": {},
   "outputs": [],
   "source": []
  },
  {
   "cell_type": "markdown",
   "id": "17987c0e",
   "metadata": {},
   "source": [
    "__Pra tirar espaços do meio, podemos fazer:__"
   ]
  },
  {
   "cell_type": "code",
   "execution_count": 8,
   "id": "cf926238",
   "metadata": {
    "ExecuteTime": {
     "end_time": "2021-07-12T20:35:14.189572Z",
     "start_time": "2021-07-12T20:35:14.180995Z"
    }
   },
   "outputs": [],
   "source": [
    "cores = \"vermelho            rosa     verde\"\n"
   ]
  },
  {
   "cell_type": "code",
   "execution_count": null,
   "id": "e0888562",
   "metadata": {
    "ExecuteTime": {
     "end_time": "2021-07-12T20:33:58.257442Z",
     "start_time": "2021-07-12T20:33:58.252445Z"
    }
   },
   "outputs": [],
   "source": []
  },
  {
   "cell_type": "markdown",
   "id": "48fdd340",
   "metadata": {},
   "source": [
    "### outras"
   ]
  },
  {
   "cell_type": "markdown",
   "id": "a1c4b83b",
   "metadata": {},
   "source": [
    "Outros métodos interessantes...\n",
    "\n",
    "- `isdigit()`\n",
    "- `isalpha()`\n",
    "- `isalnum()`\n",
    "- `isspace()`"
   ]
  },
  {
   "cell_type": "code",
   "execution_count": null,
   "id": "5448d584",
   "metadata": {},
   "outputs": [],
   "source": []
  },
  {
   "cell_type": "code",
   "execution_count": null,
   "id": "c536e861",
   "metadata": {},
   "outputs": [],
   "source": []
  },
  {
   "cell_type": "markdown",
   "id": "c3336e59",
   "metadata": {},
   "source": [
    "## Formatação de strings"
   ]
  },
  {
   "cell_type": "markdown",
   "id": "36e661e4",
   "metadata": {},
   "source": [
    "Também podemos **formatar strings**. Isso pode ser super útil tanto ao receber dados do usuário (input) quando ao exbibir dados pro usuário (print)"
   ]
  },
  {
   "cell_type": "markdown",
   "id": "d2d8eb50",
   "metadata": {},
   "source": [
    "Um dos usos mais legal do format é para **exibir** strings formatadas.\n",
    "\n",
    "Imagine que você queira exibir uma data no formato dd/mm/aaaa.\n",
    "\n",
    "Em situações normais, dias e meses inferiores a 10 apareceriam com apenas 1 dígito (int não é representado com zeros à esquerda). Porém, podemos especificar no format que gostaríamos de representar um inteiro com 2 dígitos, preenchendo com zero dígitos em branco (à esquerda): \n",
    "\n",
    "```python\n",
    "\n",
    "dia = 1\n",
    "mes = 2\n",
    "ano = 2020\n",
    "data = '{:02d}/{:02d}/{:04d}'.format(dia, mes, ano)\n",
    "print(data) # resultado: 01/02/2020\n",
    "```\n",
    "\n",
    "O símbolo 'd' indica que estamos representando números **inteiros** em base decimal (dígitos de 0 a 9). \n",
    "\n",
    "Os símbolos '2' e '4' indicam, respectivamente, 2 dígitos ou 4 dígitos. \n",
    "\n",
    "o símbolo '0' indica que se faltar dígitos, os espaços devem ser preenchidos com zero\n",
    "\n",
    "Mais formatos [aqui](https://pyformat.info)."
   ]
  },
  {
   "cell_type": "code",
   "execution_count": 123,
   "id": "c51e5070",
   "metadata": {
    "ExecuteTime": {
     "end_time": "2021-07-12T20:57:48.927773Z",
     "start_time": "2021-07-12T20:57:48.914554Z"
    }
   },
   "outputs": [
    {
     "name": "stdout",
     "output_type": "stream",
     "text": [
      "1/2/2021\n",
      "01/02/2021\n"
     ]
    }
   ],
   "source": [
    "dia = 1\n",
    "mes = 2\n",
    "ano = 2021\n",
    "\n",
    "data_simples = '{}/{}/{}'.format(dia, mes, ano)\n",
    "data = \"{:02d}/{:02d}/{:04d}\".format(dia, mes, ano)\n",
    "\n",
    "print(data_simples)\n",
    "print(data)"
   ]
  },
  {
   "cell_type": "markdown",
   "id": "9b0da1b7",
   "metadata": {},
   "source": [
    "Imagina que você queira exibir algum valor monetário, por exemplo, o preço de alguma coisa.\n",
    "\n",
    "Utilizando float, pode ser que seu resultado tenha apenas uma casa decimal.\n",
    "\n",
    "Mas, se tratando de dinheito, sempre queremos mostrar duas casas decimais!\n",
    "\n",
    "Usaremos o format para representar com apenas 2 casas.\n",
    "\n",
    "```python\n",
    "preco = 1500.5\n",
    "\n",
    "print(preco) \n",
    "\n",
    "precoFinal = 'R$ {:.2f}'.format(preco)\n",
    "\n",
    "print(precoFinal)\n",
    "```\n",
    "\n",
    "Neste caso, o 'f' indica que o número é float. \n",
    "\n",
    "Já o '.2' indica que queremos 2 casas após o ponto decimal. \n",
    "\n",
    "Note que a função não apenas descarta as casas excedentes, e sim arredonda corretamente o número."
   ]
  },
  {
   "cell_type": "code",
   "execution_count": 1,
   "id": "c77df455",
   "metadata": {
    "ExecuteTime": {
     "end_time": "2021-07-12T21:00:14.468641Z",
     "start_time": "2021-07-12T21:00:14.458639Z"
    }
   },
   "outputs": [],
   "source": [
    "preco = 1500.5678\n",
    "\n",
    "# ..."
   ]
  },
  {
   "cell_type": "code",
   "execution_count": null,
   "id": "d71c992d",
   "metadata": {},
   "outputs": [],
   "source": []
  },
  {
   "cell_type": "code",
   "execution_count": null,
   "id": "4821c548",
   "metadata": {},
   "outputs": [],
   "source": []
  },
  {
   "cell_type": "markdown",
   "id": "ab36bf32",
   "metadata": {},
   "source": [
    "---\n",
    "## Desafio\n",
    "\n",
    "Solicitaram para que você construisse um programa simples de criptografia. Este programa deve possibilitar enviar mensagens codificadas sem que alguém consiga lê-las. O processo é muito simples. São feitas três passadas em todo o texto.\n",
    "\n",
    "Na primeira passada, somente caracteres que sejam letras minúsculas e maiúsculas devem ser deslocadas 3 posições para a direita, segundo a tabela ASCII: letra 'a' deve virar letra 'd', letra 'y' deve virar caractere '|' e assim sucessivamente. Na segunda passada, a linha deverá ser invertida. Na terceira e última passada, todo e qualquer caractere a partir da metade em diante (truncada) devem ser deslocados uma posição para a esquerda na tabela ASCII. Neste caso, 'b' vira 'a' e 'a' vira '`'.\n",
    "\n",
    "Por exemplo, se a entrada for “Texto #3”, o primeiro processamento sobre esta entrada deverá produzir “Wh{wr #3”. O resultado do segundo processamento inverte os caracteres e produz “3# rw{hW”. Por último, com o deslocamento dos caracteres da metade em diante, o resultado final deve ser “3# rvzgV”.\n",
    "\n",
    "|Exemplo de Entrada | Exemplo de Saída|\n",
    "|:-----------------:|:---------------:|\n",
    "| Texto #3          | 3# rvzgV        |\n",
    "| abcABC1           | 1FECedc         |\n",
    "| vxpdylY .ph       | ks. \\n{frzx     |\n",
    "| vv.xwfxo.fd       | gi.r{hyz-xx     |\n"
   ]
  },
  {
   "cell_type": "code",
   "execution_count": null,
   "id": "f1e97b18",
   "metadata": {},
   "outputs": [],
   "source": []
  },
  {
   "cell_type": "code",
   "execution_count": null,
   "id": "08c32494",
   "metadata": {},
   "outputs": [],
   "source": []
  }
 ],
 "metadata": {
  "kernelspec": {
   "display_name": "Python 3",
   "language": "python",
   "name": "python3"
  },
  "language_info": {
   "codemirror_mode": {
    "name": "ipython",
    "version": 3
   },
   "file_extension": ".py",
   "mimetype": "text/x-python",
   "name": "python",
   "nbconvert_exporter": "python",
   "pygments_lexer": "ipython3",
   "version": "3.9.7"
  },
  "toc": {
   "base_numbering": 1,
   "nav_menu": {},
   "number_sections": true,
   "sideBar": true,
   "skip_h1_title": false,
   "title_cell": "Table of Contents",
   "title_sidebar": "Contents",
   "toc_cell": false,
   "toc_position": {},
   "toc_section_display": true,
   "toc_window_display": true
  },
  "varInspector": {
   "cols": {
    "lenName": 16,
    "lenType": 16,
    "lenVar": 40
   },
   "kernels_config": {
    "python": {
     "delete_cmd_postfix": "",
     "delete_cmd_prefix": "del ",
     "library": "var_list.py",
     "varRefreshCmd": "print(var_dic_list())"
    },
    "r": {
     "delete_cmd_postfix": ") ",
     "delete_cmd_prefix": "rm(",
     "library": "var_list.r",
     "varRefreshCmd": "cat(var_dic_list()) "
    }
   },
   "types_to_exclude": [
    "module",
    "function",
    "builtin_function_or_method",
    "instance",
    "_Feature"
   ],
   "window_display": false
  }
 },
 "nbformat": 4,
 "nbformat_minor": 5
}
