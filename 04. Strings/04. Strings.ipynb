{
 "cells": [
  {
   "cell_type": "markdown",
   "id": "1799dc7d",
   "metadata": {},
   "source": [
    "# 04 - Strings\n",
    "---\n",
    "\n",
    "<img src=\"https://selecao.letscode.com.br/favicon.png\" width=\"40px\" style=\"position: absolute; top: 0px; right: 40px; border-radius: 5px;\" />"
   ]
  },
  {
   "cell_type": "markdown",
   "id": "eb529c28",
   "metadata": {},
   "source": [
    "\n",
    "Desde a primeira aula, temos trabalhado com strings, que, como vimos, representam **dados textuais**.\n",
    "\n",
    "Vamos, agora, olhar pra strings um pouco mais a fundo, e aprender algumas funções para trabalharmos com strings."
   ]
  },
  {
   "cell_type": "code",
   "execution_count": 1,
   "id": "e7375fea",
   "metadata": {},
   "outputs": [],
   "source": [
    "mensagem = 'Eu amo programar em Python!'"
   ]
  },
  {
   "cell_type": "markdown",
   "id": "315df382",
   "metadata": {},
   "source": [
    "Uma string nada mais é do que uma **coleção de caracteres**!\n",
    "\n",
    "## Indexação e slices\n",
    "\n",
    "Assim, podemos acessar caracteres específicos ou então um intervalo de caracteres de uma string, como se fosse uma lista!\n",
    "\n",
    "**OBS.: Para strings também, o índice começa em 0, e podemos usar índices negativos!**"
   ]
  },
  {
   "cell_type": "code",
   "execution_count": 2,
   "id": "c06ddd5b",
   "metadata": {},
   "outputs": [
    {
     "data": {
      "text/plain": [
       "'E'"
      ]
     },
     "execution_count": 2,
     "metadata": {},
     "output_type": "execute_result"
    }
   ],
   "source": [
    "mensagem[0]"
   ]
  },
  {
   "cell_type": "code",
   "execution_count": 3,
   "id": "2b586924",
   "metadata": {},
   "outputs": [
    {
     "data": {
      "text/plain": [
       "'!'"
      ]
     },
     "execution_count": 3,
     "metadata": {},
     "output_type": "execute_result"
    }
   ],
   "source": [
    "mensagem[-1]"
   ]
  },
  {
   "cell_type": "code",
   "execution_count": 6,
   "id": "c03742c3",
   "metadata": {},
   "outputs": [
    {
     "data": {
      "text/plain": [
       "'Python'"
      ]
     },
     "execution_count": 6,
     "metadata": {},
     "output_type": "execute_result"
    }
   ],
   "source": [
    "mensagem[-7:-1]"
   ]
  },
  {
   "cell_type": "code",
   "execution_count": 8,
   "id": "341927ec",
   "metadata": {},
   "outputs": [
    {
     "data": {
      "text/plain": [
       "'Eu'"
      ]
     },
     "execution_count": 8,
     "metadata": {},
     "output_type": "execute_result"
    }
   ],
   "source": [
    "mensagem[:2]"
   ]
  },
  {
   "cell_type": "markdown",
   "id": "67eafa2a",
   "metadata": {},
   "source": [
    "### Percorrendo uma string com `for`\n",
    "\n",
    "Podemos também percorrer cada caractere da string com o `for` -- strings são objetos **iteráveis**:"
   ]
  },
  {
   "cell_type": "markdown",
   "id": "b09dc7a8",
   "metadata": {},
   "source": [
    "Dá pra fazer o mesmo com o range() e o len():"
   ]
  },
  {
   "cell_type": "code",
   "execution_count": 9,
   "id": "f502f43c",
   "metadata": {},
   "outputs": [
    {
     "name": "stdout",
     "output_type": "stream",
     "text": [
      "E\n",
      "u\n",
      " \n",
      "a\n",
      "m\n",
      "o\n",
      " \n",
      "p\n",
      "r\n",
      "o\n",
      "g\n",
      "r\n",
      "a\n",
      "m\n",
      "a\n",
      "r\n",
      " \n",
      "e\n",
      "m\n",
      " \n",
      "P\n",
      "y\n",
      "t\n",
      "h\n",
      "o\n",
      "n\n",
      "!\n"
     ]
    }
   ],
   "source": [
    "for alguma_coisa in mensagem:\n",
    "  print(alguma_coisa)"
   ]
  },
  {
   "cell_type": "code",
   "execution_count": 11,
   "id": "bcf84435",
   "metadata": {},
   "outputs": [
    {
     "name": "stdout",
     "output_type": "stream",
     "text": [
      "E\n",
      "u\n",
      " \n",
      "a\n",
      "m\n",
      "o\n",
      " \n",
      "p\n",
      "r\n",
      "o\n",
      "g\n",
      "r\n",
      "a\n",
      "m\n",
      "a\n",
      "r\n",
      " \n",
      "e\n",
      "m\n",
      " \n",
      "P\n",
      "y\n",
      "t\n",
      "h\n",
      "o\n",
      "n\n",
      "!\n"
     ]
    }
   ],
   "source": [
    "for letra in mensagem:\n",
    "  print(letra)"
   ]
  },
  {
   "cell_type": "markdown",
   "id": "7c8593c9",
   "metadata": {},
   "source": [
    "**Não é possível alterar os caracteres de uma string!**"
   ]
  },
  {
   "cell_type": "code",
   "execution_count": 12,
   "id": "7e87cfe1",
   "metadata": {},
   "outputs": [],
   "source": [
    "lista = [1, 2, 3, 4, 5]\n",
    "\n",
    "lista[0] = 0"
   ]
  },
  {
   "cell_type": "code",
   "execution_count": 13,
   "id": "9960dd5a",
   "metadata": {},
   "outputs": [
    {
     "data": {
      "text/plain": [
       "[0, 2, 3, 4, 5]"
      ]
     },
     "execution_count": 13,
     "metadata": {},
     "output_type": "execute_result"
    }
   ],
   "source": [
    "lista"
   ]
  },
  {
   "cell_type": "code",
   "execution_count": 14,
   "id": "763bc01e",
   "metadata": {},
   "outputs": [
    {
     "ename": "TypeError",
     "evalue": "'str' object does not support item assignment",
     "output_type": "error",
     "traceback": [
      "\u001b[0;31m---------------------------------------------------------------------------\u001b[0m",
      "\u001b[0;31mTypeError\u001b[0m                                 Traceback (most recent call last)",
      "\u001b[0;32m/var/folders/9p/770yx95j1n7187wfwtr4x16h0000gn/T/ipykernel_8851/3735405826.py\u001b[0m in \u001b[0;36m<module>\u001b[0;34m\u001b[0m\n\u001b[0;32m----> 1\u001b[0;31m \u001b[0mmensagem\u001b[0m\u001b[0;34m[\u001b[0m\u001b[0;36m0\u001b[0m\u001b[0;34m]\u001b[0m \u001b[0;34m=\u001b[0m \u001b[0;34m'e'\u001b[0m\u001b[0;34m\u001b[0m\u001b[0;34m\u001b[0m\u001b[0m\n\u001b[0m",
      "\u001b[0;31mTypeError\u001b[0m: 'str' object does not support item assignment"
     ]
    }
   ],
   "source": [
    "mensagem[0] = 'e'"
   ]
  },
  {
   "cell_type": "markdown",
   "id": "02143626",
   "metadata": {},
   "source": [
    "Mas nós conseguimos **alterar caracteres (ou palavras)** com o método \"replace()\":\n",
    "\n",
    "- O antigo valor a ser substituído;\n",
    "- O novo valor (a substituir)\n",
    "- `__count`: quantas ocorrências desejamos substituir"
   ]
  },
  {
   "cell_type": "code",
   "execution_count": 15,
   "id": "3c553bf9",
   "metadata": {},
   "outputs": [],
   "source": [
    "nome = 'walisson'"
   ]
  },
  {
   "cell_type": "code",
   "execution_count": 16,
   "id": "cd49c340",
   "metadata": {},
   "outputs": [
    {
     "data": {
      "text/plain": [
       "'Walisson'"
      ]
     },
     "execution_count": 16,
     "metadata": {},
     "output_type": "execute_result"
    }
   ],
   "source": [
    "nome.replace('w', 'W')"
   ]
  },
  {
   "cell_type": "code",
   "execution_count": 18,
   "id": "d2603a48",
   "metadata": {},
   "outputs": [
    {
     "data": {
      "text/plain": [
       "'waliSson'"
      ]
     },
     "execution_count": 18,
     "metadata": {},
     "output_type": "execute_result"
    }
   ],
   "source": [
    "nome.replace('s', 'S', 1)"
   ]
  },
  {
   "cell_type": "code",
   "execution_count": 19,
   "id": "92aca33f",
   "metadata": {},
   "outputs": [
    {
     "data": {
      "text/plain": [
       "'wallysson'"
      ]
     },
     "execution_count": 19,
     "metadata": {},
     "output_type": "execute_result"
    }
   ],
   "source": [
    "nome.replace('li', 'lly')"
   ]
  },
  {
   "cell_type": "code",
   "execution_count": 20,
   "id": "23e3f6a8",
   "metadata": {},
   "outputs": [
    {
     "data": {
      "text/plain": [
       "'Eu amo programar em Python!'"
      ]
     },
     "execution_count": 20,
     "metadata": {},
     "output_type": "execute_result"
    }
   ],
   "source": [
    "mensagem"
   ]
  },
  {
   "cell_type": "code",
   "execution_count": 23,
   "id": "7f906acf",
   "metadata": {},
   "outputs": [
    {
     "data": {
      "text/plain": [
       "'Eu Amo progrAmar em Python!'"
      ]
     },
     "execution_count": 23,
     "metadata": {},
     "output_type": "execute_result"
    }
   ],
   "source": [
    "mensagem.replace('a', 'A', 2)"
   ]
  },
  {
   "cell_type": "markdown",
   "id": "3270ea29",
   "metadata": {},
   "source": [
    "Podemos **transformar uma string em uma lista de caracteres**, explicitamente, usando a fução \"list()\""
   ]
  },
  {
   "cell_type": "code",
   "execution_count": 25,
   "id": "c3d2f2b5",
   "metadata": {},
   "outputs": [
    {
     "data": {
      "text/plain": [
       "['E',\n",
       " 'u',\n",
       " ' ',\n",
       " 'a',\n",
       " 'm',\n",
       " 'o',\n",
       " ' ',\n",
       " 'p',\n",
       " 'r',\n",
       " 'o',\n",
       " 'g',\n",
       " 'r',\n",
       " 'a',\n",
       " 'm',\n",
       " 'a',\n",
       " 'r',\n",
       " ' ',\n",
       " 'e',\n",
       " 'm',\n",
       " ' ',\n",
       " 'P',\n",
       " 'y',\n",
       " 't',\n",
       " 'h',\n",
       " 'o',\n",
       " 'n',\n",
       " '!']"
      ]
     },
     "execution_count": 25,
     "metadata": {},
     "output_type": "execute_result"
    }
   ],
   "source": [
    "mensagem_lista = list(mensagem)\n",
    "mensagem_lista"
   ]
  },
  {
   "cell_type": "markdown",
   "id": "9b255e45",
   "metadata": {},
   "source": [
    "Agora sim, podemos alterar um elemento da lista:"
   ]
  },
  {
   "cell_type": "code",
   "execution_count": 26,
   "id": "ab497dfd",
   "metadata": {},
   "outputs": [],
   "source": [
    "mensagem_lista[0] = 'e'"
   ]
  },
  {
   "cell_type": "code",
   "execution_count": 27,
   "id": "ce40ff50",
   "metadata": {},
   "outputs": [
    {
     "data": {
      "text/plain": [
       "['e',\n",
       " 'u',\n",
       " ' ',\n",
       " 'a',\n",
       " 'm',\n",
       " 'o',\n",
       " ' ',\n",
       " 'p',\n",
       " 'r',\n",
       " 'o',\n",
       " 'g',\n",
       " 'r',\n",
       " 'a',\n",
       " 'm',\n",
       " 'a',\n",
       " 'r',\n",
       " ' ',\n",
       " 'e',\n",
       " 'm',\n",
       " ' ',\n",
       " 'P',\n",
       " 'y',\n",
       " 't',\n",
       " 'h',\n",
       " 'o',\n",
       " 'n',\n",
       " '!']"
      ]
     },
     "execution_count": 27,
     "metadata": {},
     "output_type": "execute_result"
    }
   ],
   "source": [
    "mensagem_lista"
   ]
  },
  {
   "cell_type": "code",
   "execution_count": 28,
   "id": "4bd98ea7",
   "metadata": {},
   "outputs": [
    {
     "data": {
      "text/plain": [
       "\"['e', 'u', ' ', 'a', 'm', 'o', ' ', 'p', 'r', 'o', 'g', 'r', 'a', 'm', 'a', 'r', ' ', 'e', 'm', ' ', 'P', 'y', 't', 'h', 'o', 'n', '!']\""
      ]
     },
     "execution_count": 28,
     "metadata": {},
     "output_type": "execute_result"
    }
   ],
   "source": [
    "str(mensagem_lista)"
   ]
  },
  {
   "cell_type": "markdown",
   "id": "d8039e70",
   "metadata": {},
   "source": [
    "E, pra transformar a lista de volta pra string, usamos o método `join()`:"
   ]
  },
  {
   "cell_type": "code",
   "execution_count": 29,
   "id": "e1c104fb",
   "metadata": {},
   "outputs": [
    {
     "data": {
      "text/plain": [
       "'walisson'"
      ]
     },
     "execution_count": 29,
     "metadata": {},
     "output_type": "execute_result"
    }
   ],
   "source": [
    "nome"
   ]
  },
  {
   "cell_type": "code",
   "execution_count": 30,
   "id": "a75a5381",
   "metadata": {},
   "outputs": [
    {
     "data": {
      "text/plain": [
       "['w', 'a', 'l', 'i', 's', 's', 'o', 'n']"
      ]
     },
     "execution_count": 30,
     "metadata": {},
     "output_type": "execute_result"
    }
   ],
   "source": [
    "nome_lista = list(nome)\n",
    "nome_lista"
   ]
  },
  {
   "cell_type": "code",
   "execution_count": 34,
   "id": "6f125b1d",
   "metadata": {},
   "outputs": [
    {
     "data": {
      "text/plain": [
       "'w a l i s s o n'"
      ]
     },
     "execution_count": 34,
     "metadata": {},
     "output_type": "execute_result"
    }
   ],
   "source": [
    "# Primeiro você cria uma string que será o separador dos elementos que estão dentro da lista\n",
    "' '.join(nome_lista)"
   ]
  },
  {
   "cell_type": "code",
   "execution_count": 35,
   "id": "4a788429",
   "metadata": {},
   "outputs": [
    {
     "data": {
      "text/plain": [
       "'eu amo programar em Python!'"
      ]
     },
     "execution_count": 35,
     "metadata": {},
     "output_type": "execute_result"
    }
   ],
   "source": [
    "''.join(mensagem_lista)"
   ]
  },
  {
   "cell_type": "code",
   "execution_count": 36,
   "id": "663af9f2",
   "metadata": {},
   "outputs": [
    {
     "data": {
      "text/plain": [
       "str"
      ]
     },
     "execution_count": 36,
     "metadata": {},
     "output_type": "execute_result"
    }
   ],
   "source": [
    "type(''.join(mensagem_lista))"
   ]
  },
  {
   "cell_type": "markdown",
   "id": "52f04e61",
   "metadata": {},
   "source": [
    "**E como podemos fazer para juntar os números de uma lista em um único número \"string\"?**"
   ]
  },
  {
   "cell_type": "code",
   "execution_count": 37,
   "id": "adc8a98c",
   "metadata": {
    "ExecuteTime": {
     "end_time": "2021-07-12T20:18:55.483362Z",
     "start_time": "2021-07-12T20:18:55.463782Z"
    }
   },
   "outputs": [
    {
     "ename": "TypeError",
     "evalue": "sequence item 0: expected str instance, int found",
     "output_type": "error",
     "traceback": [
      "\u001b[0;31m---------------------------------------------------------------------------\u001b[0m",
      "\u001b[0;31mTypeError\u001b[0m                                 Traceback (most recent call last)",
      "\u001b[0;32m/var/folders/9p/770yx95j1n7187wfwtr4x16h0000gn/T/ipykernel_8851/3250465574.py\u001b[0m in \u001b[0;36m<module>\u001b[0;34m\u001b[0m\n\u001b[1;32m      1\u001b[0m \u001b[0mlista_num\u001b[0m \u001b[0;34m=\u001b[0m \u001b[0;34m[\u001b[0m\u001b[0;36m2\u001b[0m\u001b[0;34m,\u001b[0m \u001b[0;36m0\u001b[0m\u001b[0;34m,\u001b[0m \u001b[0;36m2\u001b[0m\u001b[0;34m,\u001b[0m \u001b[0;36m2\u001b[0m\u001b[0;34m]\u001b[0m\u001b[0;34m\u001b[0m\u001b[0;34m\u001b[0m\u001b[0m\n\u001b[1;32m      2\u001b[0m \u001b[0;34m\u001b[0m\u001b[0m\n\u001b[0;32m----> 3\u001b[0;31m \u001b[0;34m''\u001b[0m\u001b[0;34m.\u001b[0m\u001b[0mjoin\u001b[0m\u001b[0;34m(\u001b[0m\u001b[0mlista_num\u001b[0m\u001b[0;34m)\u001b[0m\u001b[0;34m\u001b[0m\u001b[0;34m\u001b[0m\u001b[0m\n\u001b[0m",
      "\u001b[0;31mTypeError\u001b[0m: sequence item 0: expected str instance, int found"
     ]
    }
   ],
   "source": [
    "lista_num = [2, 0, 2, 2]\n",
    "\n",
    "''.join(lista_num)"
   ]
  },
  {
   "cell_type": "code",
   "execution_count": 38,
   "id": "47796084",
   "metadata": {},
   "outputs": [
    {
     "data": {
      "text/plain": [
       "['2', '0', '2', '2']"
      ]
     },
     "execution_count": 38,
     "metadata": {},
     "output_type": "execute_result"
    }
   ],
   "source": [
    "lista_num = [2, 0, 2, 2]\n",
    "lista_num_str = []\n",
    "\n",
    "for numero in lista_num:\n",
    "  lista_num_str.append(str(numero))\n",
    "\n",
    "lista_num_str"
   ]
  },
  {
   "cell_type": "code",
   "execution_count": 39,
   "id": "cf024b8d",
   "metadata": {
    "ExecuteTime": {
     "end_time": "2021-07-12T20:20:18.580015Z",
     "start_time": "2021-07-12T20:20:18.566470Z"
    }
   },
   "outputs": [
    {
     "data": {
      "text/plain": [
       "'2022'"
      ]
     },
     "execution_count": 39,
     "metadata": {},
     "output_type": "execute_result"
    }
   ],
   "source": [
    "# em uma única linha\n",
    "lista_num = [2, 0, 2, 2]\n",
    "\n",
    "''.join([str(numero) for numero in lista_num])"
   ]
  },
  {
   "cell_type": "code",
   "execution_count": 46,
   "id": "635a0cc2",
   "metadata": {},
   "outputs": [
    {
     "data": {
      "text/plain": [
       "['2', '0', '2', '2']"
      ]
     },
     "execution_count": 46,
     "metadata": {},
     "output_type": "execute_result"
    }
   ],
   "source": [
    "list( map(str, lista_num) )"
   ]
  },
  {
   "cell_type": "code",
   "execution_count": 43,
   "id": "ed71676f",
   "metadata": {},
   "outputs": [],
   "source": [
    "# filter()"
   ]
  },
  {
   "cell_type": "code",
   "execution_count": 44,
   "id": "5ec0e6ff",
   "metadata": {},
   "outputs": [],
   "source": [
    "# reduce -> Biblioteca itertools"
   ]
  },
  {
   "cell_type": "markdown",
   "id": "6e8397c3",
   "metadata": {},
   "source": [
    "## Operações entre strings"
   ]
  },
  {
   "cell_type": "markdown",
   "id": "90d4294d",
   "metadata": {},
   "source": [
    "**Soma de strings:** ao somar duas strings, elas são concatenadas:"
   ]
  },
  {
   "cell_type": "code",
   "execution_count": 47,
   "id": "281f4106",
   "metadata": {},
   "outputs": [
    {
     "data": {
      "text/plain": [
       "'Walisson Silva'"
      ]
     },
     "execution_count": 47,
     "metadata": {},
     "output_type": "execute_result"
    }
   ],
   "source": [
    "'Walisson ' + 'Silva'"
   ]
  },
  {
   "cell_type": "code",
   "execution_count": 48,
   "id": "18650e61",
   "metadata": {},
   "outputs": [
    {
     "ename": "TypeError",
     "evalue": "can only concatenate str (not \"int\") to str",
     "output_type": "error",
     "traceback": [
      "\u001b[0;31m---------------------------------------------------------------------------\u001b[0m",
      "\u001b[0;31mTypeError\u001b[0m                                 Traceback (most recent call last)",
      "\u001b[0;32m/var/folders/9p/770yx95j1n7187wfwtr4x16h0000gn/T/ipykernel_8851/3872443792.py\u001b[0m in \u001b[0;36m<module>\u001b[0;34m\u001b[0m\n\u001b[0;32m----> 1\u001b[0;31m \u001b[0;34m'10'\u001b[0m \u001b[0;34m+\u001b[0m \u001b[0;36m10\u001b[0m\u001b[0;34m\u001b[0m\u001b[0;34m\u001b[0m\u001b[0m\n\u001b[0m",
      "\u001b[0;31mTypeError\u001b[0m: can only concatenate str (not \"int\") to str"
     ]
    }
   ],
   "source": [
    "'10' + 10"
   ]
  },
  {
   "cell_type": "markdown",
   "id": "2daf4b1f",
   "metadata": {},
   "source": [
    "**Multiplicação de string por inteiro:** ao multiplicar uma string por um número inteiro, a string é repetida:"
   ]
  },
  {
   "cell_type": "code",
   "execution_count": 49,
   "id": "4402b408",
   "metadata": {},
   "outputs": [
    {
     "ename": "TypeError",
     "evalue": "can't multiply sequence by non-int of type 'str'",
     "output_type": "error",
     "traceback": [
      "\u001b[0;31m---------------------------------------------------------------------------\u001b[0m",
      "\u001b[0;31mTypeError\u001b[0m                                 Traceback (most recent call last)",
      "\u001b[0;32m/var/folders/9p/770yx95j1n7187wfwtr4x16h0000gn/T/ipykernel_8851/2065289968.py\u001b[0m in \u001b[0;36m<module>\u001b[0;34m\u001b[0m\n\u001b[0;32m----> 1\u001b[0;31m \u001b[0;34m'Walisson'\u001b[0m \u001b[0;34m*\u001b[0m \u001b[0;34m'Silva'\u001b[0m\u001b[0;34m\u001b[0m\u001b[0;34m\u001b[0m\u001b[0m\n\u001b[0m",
      "\u001b[0;31mTypeError\u001b[0m: can't multiply sequence by non-int of type 'str'"
     ]
    }
   ],
   "source": [
    "'Walisson' * 'Silva'"
   ]
  },
  {
   "cell_type": "code",
   "execution_count": 50,
   "id": "f7493848",
   "metadata": {},
   "outputs": [
    {
     "data": {
      "text/plain": [
       "'101010'"
      ]
     },
     "execution_count": 50,
     "metadata": {},
     "output_type": "execute_result"
    }
   ],
   "source": [
    "'10' * 3"
   ]
  },
  {
   "cell_type": "code",
   "execution_count": 51,
   "id": "c32657c7",
   "metadata": {},
   "outputs": [
    {
     "data": {
      "text/plain": [
       "'----------------------------------------------------------------------------------------------------'"
      ]
     },
     "execution_count": 51,
     "metadata": {},
     "output_type": "execute_result"
    }
   ],
   "source": [
    "'-' * 100"
   ]
  },
  {
   "cell_type": "markdown",
   "id": "a11e1c73",
   "metadata": {},
   "source": [
    "## Métodos de strings"
   ]
  },
  {
   "cell_type": "markdown",
   "id": "77043d60",
   "metadata": {},
   "source": [
    "Como listas, strings também têm algumas funções específicas. Algumas delas são:\n",
    "\n",
    "### `upper`\n",
    ".upper(): transforma todos os caracteres em maiúscula"
   ]
  },
  {
   "cell_type": "code",
   "execution_count": 52,
   "id": "1018b70e",
   "metadata": {},
   "outputs": [
    {
     "data": {
      "text/plain": [
       "'walisson'"
      ]
     },
     "execution_count": 52,
     "metadata": {},
     "output_type": "execute_result"
    }
   ],
   "source": [
    "nome"
   ]
  },
  {
   "cell_type": "code",
   "execution_count": 53,
   "id": "5fc35299",
   "metadata": {},
   "outputs": [
    {
     "data": {
      "text/plain": [
       "'WALISSON'"
      ]
     },
     "execution_count": 53,
     "metadata": {},
     "output_type": "execute_result"
    }
   ],
   "source": [
    "nome.upper()"
   ]
  },
  {
   "cell_type": "markdown",
   "id": "c877bf1c",
   "metadata": {},
   "source": [
    "### `lower`"
   ]
  },
  {
   "cell_type": "markdown",
   "id": "f19beba8",
   "metadata": {},
   "source": [
    ".lower(): trasnforma todos os caracteres em minúscula"
   ]
  },
  {
   "cell_type": "code",
   "execution_count": 54,
   "id": "6d2ff2a5",
   "metadata": {},
   "outputs": [
    {
     "data": {
      "text/plain": [
       "'walisson'"
      ]
     },
     "execution_count": 54,
     "metadata": {},
     "output_type": "execute_result"
    }
   ],
   "source": [
    "nome.upper().lower()"
   ]
  },
  {
   "cell_type": "markdown",
   "id": "a0d1ab2a",
   "metadata": {},
   "source": [
    "### `title`"
   ]
  },
  {
   "cell_type": "markdown",
   "id": "120af932",
   "metadata": {},
   "source": [
    ".title(): deixa a primeira letra de cada palavra em maiúscula"
   ]
  },
  {
   "cell_type": "code",
   "execution_count": 55,
   "id": "e74d3313",
   "metadata": {
    "ExecuteTime": {
     "end_time": "2021-07-12T20:26:49.331365Z",
     "start_time": "2021-07-12T20:26:49.314746Z"
    }
   },
   "outputs": [
    {
     "data": {
      "text/plain": [
       "'Eu amo programar em Python!'"
      ]
     },
     "execution_count": 55,
     "metadata": {},
     "output_type": "execute_result"
    }
   ],
   "source": [
    "mensagem"
   ]
  },
  {
   "cell_type": "code",
   "execution_count": 57,
   "id": "98521b5a",
   "metadata": {},
   "outputs": [
    {
     "data": {
      "text/plain": [
       "'Eu Amo Programar Em Python!'"
      ]
     },
     "execution_count": 57,
     "metadata": {},
     "output_type": "execute_result"
    }
   ],
   "source": [
    "mensagem.title()"
   ]
  },
  {
   "cell_type": "markdown",
   "id": "3c7a2127",
   "metadata": {},
   "source": [
    "### `capitalize`"
   ]
  },
  {
   "cell_type": "markdown",
   "id": "d56eb4b8",
   "metadata": {},
   "source": [
    ".capitalize(): deixa a primeira letra da primeira palavra em maiúscula"
   ]
  },
  {
   "cell_type": "code",
   "execution_count": 58,
   "id": "44527f6e",
   "metadata": {},
   "outputs": [
    {
     "data": {
      "text/plain": [
       "'Walisson'"
      ]
     },
     "execution_count": 58,
     "metadata": {},
     "output_type": "execute_result"
    }
   ],
   "source": [
    "nome.capitalize()"
   ]
  },
  {
   "cell_type": "markdown",
   "id": "0a403e7f",
   "metadata": {},
   "source": [
    "### `split`"
   ]
  },
  {
   "cell_type": "markdown",
   "id": "fdc2668f",
   "metadata": {},
   "source": [
    "É possível quebrar uma string em determinado caractere, tendo como resultado uma **lista com os caracteres além da quebra**.\n",
    "\n",
    "- Para quebrar nos espaços, use a função \".split()\", sem argumento"
   ]
  },
  {
   "cell_type": "code",
   "execution_count": 59,
   "id": "be68bda0",
   "metadata": {},
   "outputs": [
    {
     "data": {
      "text/plain": [
       "['Eu', 'amo', 'programar', 'em', 'Python!']"
      ]
     },
     "execution_count": 59,
     "metadata": {},
     "output_type": "execute_result"
    }
   ],
   "source": [
    "mensagem.split() # Seperando a string baseado nos espaços (isso vai gerar uma lista de strings)"
   ]
  },
  {
   "cell_type": "code",
   "execution_count": null,
   "id": "85a72afd",
   "metadata": {},
   "outputs": [],
   "source": []
  },
  {
   "cell_type": "markdown",
   "id": "b0769062",
   "metadata": {},
   "source": [
    "- Para quebrar em algum caracter, use o caractere como argumento:"
   ]
  },
  {
   "cell_type": "code",
   "execution_count": 60,
   "id": "be6d85ca",
   "metadata": {},
   "outputs": [
    {
     "data": {
      "text/plain": [
       "['Eu ', 'mo progr', 'm', 'r em Python!']"
      ]
     },
     "execution_count": 60,
     "metadata": {},
     "output_type": "execute_result"
    }
   ],
   "source": [
    "mensagem.split('a')"
   ]
  },
  {
   "cell_type": "code",
   "execution_count": 61,
   "id": "d9f68eba",
   "metadata": {},
   "outputs": [
    {
     "data": {
      "text/plain": [
       "['15', '12', '2021']"
      ]
     },
     "execution_count": 61,
     "metadata": {},
     "output_type": "execute_result"
    }
   ],
   "source": [
    "data = '15/12/2021'\n",
    "\n",
    "data.split('/')"
   ]
  },
  {
   "cell_type": "markdown",
   "id": "1498fb88",
   "metadata": {},
   "source": [
    "### strip"
   ]
  },
  {
   "cell_type": "markdown",
   "id": "a4a5de0a",
   "metadata": {},
   "source": [
    "__Tirar espaços que tão sobrando no fim e no início da string__\n",
    "\n",
    "Utilize a função strip()"
   ]
  },
  {
   "cell_type": "code",
   "execution_count": 62,
   "id": "4a543fec",
   "metadata": {},
   "outputs": [
    {
     "data": {
      "text/plain": [
       "'walisson@email.com'"
      ]
     },
     "execution_count": 62,
     "metadata": {},
     "output_type": "execute_result"
    }
   ],
   "source": [
    "'  walisson@email.com'.strip()"
   ]
  },
  {
   "cell_type": "code",
   "execution_count": 63,
   "id": "91fe58e7",
   "metadata": {},
   "outputs": [
    {
     "data": {
      "text/plain": [
       "'walisson@email.com'"
      ]
     },
     "execution_count": 63,
     "metadata": {},
     "output_type": "execute_result"
    }
   ],
   "source": [
    "'walisson@email.com     '.strip()"
   ]
  },
  {
   "cell_type": "code",
   "execution_count": null,
   "id": "2003c684",
   "metadata": {},
   "outputs": [],
   "source": []
  },
  {
   "cell_type": "markdown",
   "id": "12104998",
   "metadata": {},
   "source": [
    "Mas essa função não elimina espaços extrar no \"meio\" da string -- apenas no início e no fim!"
   ]
  },
  {
   "cell_type": "code",
   "execution_count": null,
   "id": "c232058c",
   "metadata": {},
   "outputs": [],
   "source": []
  },
  {
   "cell_type": "markdown",
   "id": "17987c0e",
   "metadata": {},
   "source": [
    "__Pra tirar espaços do meio, podemos fazer:__"
   ]
  },
  {
   "cell_type": "code",
   "execution_count": 64,
   "id": "cf926238",
   "metadata": {
    "ExecuteTime": {
     "end_time": "2021-07-12T20:35:14.189572Z",
     "start_time": "2021-07-12T20:35:14.180995Z"
    }
   },
   "outputs": [],
   "source": [
    "cores = \"vermelho            rosa     verde\"\n"
   ]
  },
  {
   "cell_type": "code",
   "execution_count": 65,
   "id": "e0888562",
   "metadata": {
    "ExecuteTime": {
     "end_time": "2021-07-12T20:33:58.257442Z",
     "start_time": "2021-07-12T20:33:58.252445Z"
    }
   },
   "outputs": [
    {
     "data": {
      "text/plain": [
       "'vermelho            rosa     verde'"
      ]
     },
     "execution_count": 65,
     "metadata": {},
     "output_type": "execute_result"
    }
   ],
   "source": [
    "cores.strip()"
   ]
  },
  {
   "cell_type": "code",
   "execution_count": 69,
   "id": "3e13866c",
   "metadata": {},
   "outputs": [
    {
     "data": {
      "text/plain": [
       "['vermelho', 'rosa', 'verde']"
      ]
     },
     "execution_count": 69,
     "metadata": {},
     "output_type": "execute_result"
    }
   ],
   "source": [
    "cores.split()"
   ]
  },
  {
   "cell_type": "code",
   "execution_count": 68,
   "id": "9882421b",
   "metadata": {},
   "outputs": [
    {
     "data": {
      "text/plain": [
       "'vermelho rosa verde'"
      ]
     },
     "execution_count": 68,
     "metadata": {},
     "output_type": "execute_result"
    }
   ],
   "source": [
    "' '.join(cores.split())"
   ]
  },
  {
   "cell_type": "code",
   "execution_count": 70,
   "id": "ff70022e",
   "metadata": {},
   "outputs": [
    {
     "data": {
      "text/plain": [
       "'vermelhorosaverde'"
      ]
     },
     "execution_count": 70,
     "metadata": {},
     "output_type": "execute_result"
    }
   ],
   "source": [
    "cores.replace(' ', '')"
   ]
  },
  {
   "cell_type": "markdown",
   "id": "48fdd340",
   "metadata": {},
   "source": [
    "### outras"
   ]
  },
  {
   "cell_type": "markdown",
   "id": "a1c4b83b",
   "metadata": {},
   "source": [
    "Outros métodos interessantes...\n",
    "\n",
    "- `isdigit()`\n",
    "- `isalpha()`\n",
    "- `isalnum()`\n",
    "- `isspace()`\n",
    "\n",
    "https://www.w3schools.com/python/python_ref_string.asp"
   ]
  },
  {
   "cell_type": "code",
   "execution_count": 72,
   "id": "5448d584",
   "metadata": {},
   "outputs": [
    {
     "data": {
      "text/plain": [
       "False"
      ]
     },
     "execution_count": 72,
     "metadata": {},
     "output_type": "execute_result"
    }
   ],
   "source": [
    "''.isspace()"
   ]
  },
  {
   "cell_type": "code",
   "execution_count": 73,
   "id": "c536e861",
   "metadata": {},
   "outputs": [
    {
     "data": {
      "text/plain": [
       "True"
      ]
     },
     "execution_count": 73,
     "metadata": {},
     "output_type": "execute_result"
    }
   ],
   "source": [
    "' '.isspace()"
   ]
  },
  {
   "cell_type": "markdown",
   "id": "c3336e59",
   "metadata": {},
   "source": [
    "## Formatação de strings"
   ]
  },
  {
   "cell_type": "markdown",
   "id": "36e661e4",
   "metadata": {},
   "source": [
    "Também podemos **formatar strings**. Isso pode ser super útil tanto ao receber dados do usuário (input) quando ao exbibir dados pro usuário (print)"
   ]
  },
  {
   "cell_type": "markdown",
   "id": "d2d8eb50",
   "metadata": {},
   "source": [
    "Um dos usos mais legal do format é para **exibir** strings formatadas.\n",
    "\n",
    "Imagine que você queira exibir uma data no formato dd/mm/aaaa.\n",
    "\n",
    "Em situações normais, dias e meses inferiores a 10 apareceriam com apenas 1 dígito (int não é representado com zeros à esquerda). Porém, podemos especificar no format que gostaríamos de representar um inteiro com 2 dígitos, preenchendo com zero dígitos em branco (à esquerda): \n",
    "\n",
    "```python\n",
    "\n",
    "dia = 1\n",
    "mes = 2\n",
    "ano = 2020\n",
    "data = '{:02d}/{:02d}/{:04d}'.format(dia, mes, ano)\n",
    "print(data) # resultado: 01/02/2020\n",
    "```\n",
    "\n",
    "O símbolo 'd' indica que estamos representando números **inteiros** em base decimal (dígitos de 0 a 9). \n",
    "\n",
    "Os símbolos '2' e '4' indicam, respectivamente, 2 dígitos ou 4 dígitos. \n",
    "\n",
    "o símbolo '0' indica que se faltar dígitos, os espaços devem ser preenchidos com zero\n",
    "\n",
    "### Mais formatos [aqui](https://pyformat.info)."
   ]
  },
  {
   "cell_type": "code",
   "execution_count": 123,
   "id": "c51e5070",
   "metadata": {
    "ExecuteTime": {
     "end_time": "2021-07-12T20:57:48.927773Z",
     "start_time": "2021-07-12T20:57:48.914554Z"
    }
   },
   "outputs": [
    {
     "name": "stdout",
     "output_type": "stream",
     "text": [
      "1/2/2021\n",
      "01/02/2021\n"
     ]
    }
   ],
   "source": [
    "dia = 1\n",
    "mes = 2\n",
    "ano = 2021\n",
    "\n",
    "data_simples = '{}/{}/{}'.format(dia, mes, ano)\n",
    "data = \"{:02d}/{:02d}/{:04d}\".format(dia, mes, ano)\n",
    "\n",
    "print(data_simples)\n",
    "print(data)"
   ]
  },
  {
   "cell_type": "markdown",
   "id": "9b0da1b7",
   "metadata": {},
   "source": [
    "Imagina que você queira exibir algum valor monetário, por exemplo, o preço de alguma coisa.\n",
    "\n",
    "Utilizando float, pode ser que seu resultado tenha apenas uma casa decimal.\n",
    "\n",
    "Mas, se tratando de dinheito, sempre queremos mostrar duas casas decimais!\n",
    "\n",
    "Usaremos o format para representar com apenas 2 casas.\n",
    "\n",
    "```python\n",
    "preco = 1500.5\n",
    "\n",
    "print(preco) \n",
    "\n",
    "precoFinal = 'R$ {:.2f}'.format(preco)\n",
    "\n",
    "print(precoFinal)\n",
    "```\n",
    "\n",
    "Neste caso, o 'f' indica que o número é float. \n",
    "\n",
    "Já o '.2' indica que queremos 2 casas após o ponto decimal. \n",
    "\n",
    "Note que a função não apenas descarta as casas excedentes, e sim arredonda corretamente o número."
   ]
  },
  {
   "cell_type": "code",
   "execution_count": 1,
   "id": "c77df455",
   "metadata": {
    "ExecuteTime": {
     "end_time": "2021-07-12T21:00:14.468641Z",
     "start_time": "2021-07-12T21:00:14.458639Z"
    }
   },
   "outputs": [],
   "source": [
    "preco = 1500.5678\n",
    "\n",
    "# ..."
   ]
  },
  {
   "cell_type": "code",
   "execution_count": null,
   "id": "d71c992d",
   "metadata": {},
   "outputs": [],
   "source": []
  },
  {
   "cell_type": "markdown",
   "id": "ab36bf32",
   "metadata": {},
   "source": [
    "---\n",
    "## Desafio\n",
    "\n",
    "Solicitaram para que você construisse um programa simples de criptografia. Este programa deve possibilitar enviar mensagens codificadas sem que alguém consiga lê-las. O processo é muito simples. São feitas três passadas em todo o texto.\n",
    "\n",
    "Na primeira passada, somente caracteres que sejam letras minúsculas e maiúsculas devem ser deslocadas 3 posições para a direita, segundo a tabela ASCII: letra 'a' deve virar letra 'd', letra 'y' deve virar caractere '|' e assim sucessivamente. Na segunda passada, a linha deverá ser invertida. Na terceira e última passada, todo e qualquer caractere a partir da metade em diante (truncada) devem ser deslocados uma posição para a esquerda na tabela ASCII. Neste caso, 'b' vira 'a' e 'a' vira '`'.\n",
    "\n",
    "Por exemplo, se a entrada for “Texto #3”, o primeiro processamento sobre esta entrada deverá produzir “Wh{wr #3”. O resultado do segundo processamento inverte os caracteres e produz “3# rw{hW”. Por último, com o deslocamento dos caracteres da metade em diante, o resultado final deve ser “3# rvzgV”.\n",
    "\n",
    "|Exemplo de Entrada | Exemplo de Saída|\n",
    "|:-----------------:|:---------------:|\n",
    "| Texto #3          | 3# rvzgV        |\n",
    "| abcABC1           | 1FECedc         |\n",
    "| vxpdylY .ph       | ks. \\n{frzx     |\n",
    "| vv.xwfxo.fd       | gi.r{hyz-xx     |\n",
    "\n",
    "![](https://media.tenor.com/images/56074b63a3b147fe7ac2ff71d3e9fc26/tenor.gif)\n"
   ]
  },
  {
   "cell_type": "code",
   "execution_count": 11,
   "id": "8270862e",
   "metadata": {},
   "outputs": [
    {
     "data": {
      "text/plain": [
       "97"
      ]
     },
     "execution_count": 11,
     "metadata": {},
     "output_type": "execute_result"
    }
   ],
   "source": [
    "ord('a') # valor na tabela ASCII"
   ]
  },
  {
   "cell_type": "code",
   "execution_count": 12,
   "id": "b42a7a7f",
   "metadata": {},
   "outputs": [
    {
     "data": {
      "text/plain": [
       "'a'"
      ]
     },
     "execution_count": 12,
     "metadata": {},
     "output_type": "execute_result"
    }
   ],
   "source": [
    "chr(97) # retornar o caracter equivalente da tabela ASCII"
   ]
  },
  {
   "cell_type": "code",
   "execution_count": 2,
   "id": "f1e97b18",
   "metadata": {},
   "outputs": [],
   "source": [
    "texto = 'Texto #3'"
   ]
  },
  {
   "cell_type": "code",
   "execution_count": 13,
   "id": "08c32494",
   "metadata": {},
   "outputs": [
    {
     "data": {
      "text/plain": [
       "['W', 'h', '{', 'w', 'r', ' ', '#', '3']"
      ]
     },
     "execution_count": 13,
     "metadata": {},
     "output_type": "execute_result"
    }
   ],
   "source": [
    "[chr(ord(caracter) + 3) if caracter.isalpha() else caracter for caracter in texto]"
   ]
  },
  {
   "cell_type": "code",
   "execution_count": 14,
   "id": "95e8a2cb",
   "metadata": {},
   "outputs": [
    {
     "data": {
      "text/plain": [
       "'Wh{wr #3'"
      ]
     },
     "execution_count": 14,
     "metadata": {},
     "output_type": "execute_result"
    }
   ],
   "source": [
    "\"Wh{wr #3\""
   ]
  },
  {
   "cell_type": "code",
   "execution_count": 15,
   "id": "4f6d9f8b",
   "metadata": {},
   "outputs": [
    {
     "data": {
      "text/plain": [
       "'Wh{wr #3'"
      ]
     },
     "execution_count": 15,
     "metadata": {},
     "output_type": "execute_result"
    }
   ],
   "source": [
    "\"\".join([chr(ord(caracter) + 3) if caracter.isalpha() else caracter for caracter in texto])"
   ]
  },
  {
   "cell_type": "code",
   "execution_count": 16,
   "id": "5460f6a9",
   "metadata": {},
   "outputs": [
    {
     "data": {
      "text/plain": [
       "'Wh{wr #3'"
      ]
     },
     "execution_count": 16,
     "metadata": {},
     "output_type": "execute_result"
    }
   ],
   "source": [
    "string_codificada = ''\n",
    "\n",
    "for caracter in texto:\n",
    "  if caracter.isalpha():\n",
    "    string_codificada += chr(ord(caracter) + 3)\n",
    "  else:\n",
    "    string_codificada += caracter\n",
    "\n",
    "string_codificada"
   ]
  },
  {
   "cell_type": "code",
   "execution_count": null,
   "id": "343f372b",
   "metadata": {},
   "outputs": [],
   "source": []
  }
 ],
 "metadata": {
  "kernelspec": {
   "display_name": "Python 3",
   "language": "python",
   "name": "python3"
  },
  "language_info": {
   "codemirror_mode": {
    "name": "ipython",
    "version": 3
   },
   "file_extension": ".py",
   "mimetype": "text/x-python",
   "name": "python",
   "nbconvert_exporter": "python",
   "pygments_lexer": "ipython3",
   "version": "3.9.7"
  },
  "toc": {
   "base_numbering": 1,
   "nav_menu": {},
   "number_sections": true,
   "sideBar": true,
   "skip_h1_title": false,
   "title_cell": "Table of Contents",
   "title_sidebar": "Contents",
   "toc_cell": false,
   "toc_position": {},
   "toc_section_display": true,
   "toc_window_display": true
  },
  "varInspector": {
   "cols": {
    "lenName": 16,
    "lenType": 16,
    "lenVar": 40
   },
   "kernels_config": {
    "python": {
     "delete_cmd_postfix": "",
     "delete_cmd_prefix": "del ",
     "library": "var_list.py",
     "varRefreshCmd": "print(var_dic_list())"
    },
    "r": {
     "delete_cmd_postfix": ") ",
     "delete_cmd_prefix": "rm(",
     "library": "var_list.r",
     "varRefreshCmd": "cat(var_dic_list()) "
    }
   },
   "types_to_exclude": [
    "module",
    "function",
    "builtin_function_or_method",
    "instance",
    "_Feature"
   ],
   "window_display": false
  }
 },
 "nbformat": 4,
 "nbformat_minor": 5
}
