{
 "cells": [
  {
   "cell_type": "markdown",
   "metadata": {},
   "source": [
    "# Algoritmos de Ordenação"
   ]
  },
  {
   "cell_type": "markdown",
   "metadata": {},
   "source": [
    "## 1) Bubblesort"
   ]
  },
  {
   "cell_type": "code",
   "execution_count": 2,
   "metadata": {},
   "outputs": [],
   "source": [
    "def bubblesort(lista):\n",
    "    n = len(lista)\n",
    "    \n",
    "    for i in range(n-1):  #<----- algoritmo O(n^2)\n",
    "        for j in range(n-1):\n",
    "            if lista[j] > lista[j+1]:\n",
    "                lista[j], lista[j+1] = lista[j+1], lista[j]\n"
   ]
  },
  {
   "cell_type": "code",
   "execution_count": 3,
   "metadata": {},
   "outputs": [],
   "source": [
    "import numpy as np\n",
    "import time \n",
    "\n",
    "numero_de_elementos = [10, 100, 250, 500, 750, 1000, 1300, 1500, 1800, 2000]\n",
    "tempos = []\n",
    "\n",
    "for n in numero_de_elementos:\n",
    "    lista_aleatoria = np.random.randint(1, 1001, n)\n",
    "    tempo_inicial = time.time()\n",
    "    bubblesort(lista_aleatoria)\n",
    "    tempo_final = time.time()\n",
    "\n",
    "    tempos.append(tempo_final - tempo_inicial)\n",
    "\n",
    "\n"
   ]
  },
  {
   "cell_type": "code",
   "execution_count": 5,
   "metadata": {},
   "outputs": [
    {
     "data": {
      "image/png": "[encoded data removed]",
      "text/plain": [
       "<Figure size 432x288 with 1 Axes>"
      ]
     },
     "metadata": {
      "needs_background": "light"
     },
     "output_type": "display_data"
    }
   ],
   "source": [
    "import matplotlib.pyplot as plt\n",
    "\n",
    "a, b, c = np.polyfit(numero_de_elementos, tempos, 2)\n",
    "\n",
    "fit_equation = lambda x: a * x ** 2 + b * x + c\n",
    "\n",
    "X_fit = np.linspace(min(numero_de_elementos), max(numero_de_elementos), 1000)\n",
    "Y_fit = fit_equation(X_fit)\n",
    "\n",
    "plt.scatter(numero_de_elementos, tempos)\n",
    "plt.plot(X_fit, Y_fit, c = 'r')\n",
    "\n",
    "plt.show()"
   ]
  },
  {
   "cell_type": "code",
   "execution_count": 6,
   "metadata": {},
   "outputs": [
    {
     "name": "stdout",
     "output_type": "stream",
     "text": [
      "4.961508856621179e-07 2.6401707827678856e-06 -0.0028265370477133056\n"
     ]
    }
   ],
   "source": [
    "print(a, b, c)"
   ]
  },
  {
   "cell_type": "markdown",
   "metadata": {},
   "source": [
    "## 2) Merge Sort\n",
    "\n",
    "log(n)\n",
    "\n",
    "n*log(n)\n",
    "\n",
    "(1+n)*log(n)\n",
    "\n",
    "O(n*log(n))"
   ]
  },
  {
   "cell_type": "markdown",
   "metadata": {},
   "source": [
    "<img src=\"https://media.geeksforgeeks.org/wp-content/cdn-uploads/Merge-Sort-Tutorial.png\">"
   ]
  },
  {
   "cell_type": "code",
   "execution_count": 7,
   "metadata": {},
   "outputs": [],
   "source": [
    "def merge_sort(lista):\n",
    "    if len(lista) > 1:\n",
    "        \n",
    "        meio = len(lista) // 2\n",
    "        \n",
    "        esquerda = lista[:meio]\n",
    "        direita = lista[meio:]\n",
    "\n",
    "        merge_sort(esquerda)\n",
    "        merge_sort(direita)\n",
    "\n",
    "        i = 0\n",
    "        j = 0\n",
    "        k = 0\n",
    "\n",
    "        while i < len(esquerda) and j < len(direita):\n",
    "\n",
    "            if esquerda[i] < direita[j]:\n",
    "                lista[k] = esquerda[i]\n",
    "                i += 1\n",
    "            else:\n",
    "                lista[k] = direita[j]\n",
    "                j += 1\n",
    "\n",
    "            k += 1\n",
    "\n",
    "        while i < len(esquerda):\n",
    "            lista[k] = esquerda[i]\n",
    "            i += 1\n",
    "            k += 1\n",
    "        \n",
    "        while j < len(direita):\n",
    "            lista[k] = direita[j]\n",
    "            j += 1\n",
    "            k += 1\n",
    "\n",
    "            \n",
    "        \n",
    "\n",
    "\n",
    "        \n",
    "\n"
   ]
  },
  {
   "cell_type": "code",
   "execution_count": 13,
   "metadata": {},
   "outputs": [],
   "source": [
    "import numpy as np\n",
    "import time \n",
    "\n",
    "numero_de_elementos = [10, 100, 250, 500, 750, 1000, 1300, 1500, 1800, 2000]\n",
    "tempos = []\n",
    "\n",
    "for n in numero_de_elementos:\n",
    "    lista_aleatoria = np.random.randint(1, 1001, n)\n",
    "    tempo_inicial = time.time()\n",
    "    merge_sort(lista_aleatoria)\n",
    "    tempo_final = time.time()\n",
    "\n",
    "    tempos.append(tempo_final - tempo_inicial)"
   ]
  },
  {
   "cell_type": "code",
   "execution_count": 14,
   "metadata": {},
   "outputs": [
    {
     "data": {
      "image/png": "[encoded data removed]",
      "text/plain": [
       "<Figure size 432x288 with 1 Axes>"
      ]
     },
     "metadata": {
      "needs_background": "light"
     },
     "output_type": "display_data"
    }
   ],
   "source": [
    "plt.scatter(numero_de_elementos, tempos)\n",
    "plt.show()"
   ]
  },
  {
   "cell_type": "markdown",
   "metadata": {},
   "source": [
    "## 3) Quick Sort"
   ]
  },
  {
   "cell_type": "markdown",
   "metadata": {},
   "source": [
    "<img src=\"https://blog.pantuza.com/uploads/98eadc2dcce405103af9682f2da5890ee6970deb\">"
   ]
  },
  {
   "cell_type": "markdown",
   "metadata": {},
   "source": [
    "# Exercícios"
   ]
  },
  {
   "cell_type": "markdown",
   "metadata": {},
   "source": [
    "Seja $X[1..n]$ um vetor de inteiros e $i$ e $j$ dois índices distintos de $X$, ou seja, $i$ e $j$ são inteiros entre $1$ e $n$. Dizemos que o par $(i,j)$ é uma inversão de $X$ se $i < j$ e $X[i] > X[j]$. Escreva um algoritmo $O(n\\log n)$ que devolva o número de inversões em um vetor $X$, onde $n$ é o número de elementos de $X$. Dica: alterar a forma que os elementos são intercalados. "
   ]
  },
  {
   "cell_type": "markdown",
   "metadata": {},
   "source": [
    "Solução 1 (pior):"
   ]
  },
  {
   "cell_type": "markdown",
   "metadata": {},
   "source": [
    "Solução 2 (melhor):"
   ]
  },
  {
   "cell_type": "markdown",
   "metadata": {},
   "source": [
    "# Algoritmos de Busca\n",
    "\n",
    "\n",
    "## Busca binária: complexidade O(log(n))"
   ]
  },
  {
   "cell_type": "code",
   "execution_count": null,
   "metadata": {},
   "outputs": [],
   "source": [
    "def binary_search(lista, low, high, x):\n",
    "    if high >= low:\n",
    "\n",
    "        mid = (high + low) // 2\n",
    "\n",
    "        if lista[mid] == x:\n",
    "            return mid\n",
    "        \n",
    "        elif lista[mid] > x:\n",
    "            return binary_search(lista, low, mid - 1)\n",
    "        \n",
    "        else:\n",
    "            return binary_search(lista, mid+1, high, x)\n",
    "    \n",
    "    else:\n",
    "        return -1"
   ]
  }
 ],
 "metadata": {
  "interpreter": {
   "hash": "112989f40982219f9c2133127490be09f86560db102a13a350eb86b01002b443"
  },
  "kernelspec": {
   "display_name": "Python 3.8.8 64-bit ('base': conda)",
   "language": "python",
   "name": "python3"
  },
  "language_info": {
   "codemirror_mode": {
    "name": "ipython",
    "version": 3
   },
   "file_extension": ".py",
   "mimetype": "text/x-python",
   "name": "python",
   "nbconvert_exporter": "python",
   "pygments_lexer": "ipython3",
   "version": "3.8.8"
  },
  "orig_nbformat": 4
 },
 "nbformat": 4,
 "nbformat_minor": 2
}
