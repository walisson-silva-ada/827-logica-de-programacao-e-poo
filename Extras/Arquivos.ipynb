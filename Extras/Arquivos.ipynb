{
 "cells": [
  {
   "cell_type": "markdown",
   "metadata": {},
   "source": [
    "# Arquivos e CSV\n",
    "---\n",
    "\n",
    "## Lidando com arquivos genéricos"
   ]
  },
  {
   "cell_type": "code",
   "execution_count": 15,
   "metadata": {},
   "outputs": [
    {
     "name": "stdout",
     "output_type": "stream",
     "text": [
      "Erro genérico: list index out of range\n"
     ]
    }
   ],
   "source": [
    "dicio = {'name': 'Walisson'}\n",
    "lista = [1, 2, 3]\n",
    "\n",
    "try:\n",
    "  open('arquivos/exemplo.txt')\n",
    "  # print(dicio['age'])\n",
    "  print(lista[3])\n",
    "except FileNotFoundError as error:\n",
    "  print('Arquivo não encontrado.', error)\n",
    "except KeyError:\n",
    "  print('Chave não encontrada.')\n",
    "except Exception as error:\n",
    "  print('Erro genérico:', error)"
   ]
  },
  {
   "cell_type": "code",
   "execution_count": 20,
   "metadata": {},
   "outputs": [],
   "source": [
    "arquivo = open('arquivos/exemplo.txt')"
   ]
  },
  {
   "cell_type": "code",
   "execution_count": 21,
   "metadata": {},
   "outputs": [
    {
     "data": {
      "text/plain": [
       "'Isso aqui é apenas um arquivo de exemplo.'"
      ]
     },
     "execution_count": 21,
     "metadata": {},
     "output_type": "execute_result"
    }
   ],
   "source": [
    "arquivo.read() # Mostra todo o conteúdo do arquivo"
   ]
  },
  {
   "cell_type": "code",
   "execution_count": 22,
   "metadata": {},
   "outputs": [
    {
     "data": {
      "text/plain": [
       "''"
      ]
     },
     "execution_count": 22,
     "metadata": {},
     "output_type": "execute_result"
    }
   ],
   "source": [
    "arquivo.read()"
   ]
  },
  {
   "cell_type": "code",
   "execution_count": 23,
   "metadata": {},
   "outputs": [],
   "source": [
    "arquivo.close()"
   ]
  },
  {
   "cell_type": "code",
   "execution_count": 24,
   "metadata": {},
   "outputs": [],
   "source": [
    "arquivo = open('arquivos/exemplo.txt')"
   ]
  },
  {
   "cell_type": "code",
   "execution_count": 25,
   "metadata": {},
   "outputs": [],
   "source": [
    "arquivo.close()"
   ]
  },
  {
   "cell_type": "code",
   "execution_count": 29,
   "metadata": {},
   "outputs": [
    {
     "name": "stdout",
     "output_type": "stream",
     "text": [
      "['Isso aqui é apenas um arquivo de exemplo.\\n', 'Outra linha adicionada ao arquivo.\\n']\n"
     ]
    }
   ],
   "source": [
    "with open('arquivos/exemplo.txt') as arquivo:\n",
    "  print(arquivo.readlines())"
   ]
  },
  {
   "cell_type": "markdown",
   "metadata": {},
   "source": [
    "### Modos de Abertura de Arquivos\n",
    "\n",
    "Podemos criar arquivos novos ou abrir arquivos já existentes utilizando a função _open_. Ela possui 2 argumentos: uma com o caminho do arquivo e outra com o modo de operação.\n",
    "\n",
    "| Modo   | Símbolo | Descrição                                                                                                                             |\n",
    "|--------|---------|---------------------------------------------------------------------------------------------------------------------------------------|\n",
    "| _read_   | r       | lê um arquivo existente                                                                                                               |\n",
    "| _write_  | w       | cria um novo arquivo                                                                                                                  |\n",
    "| _append_ | a       | abre um arquivo existente para adicionar informações ao seu final                                                                     |\n",
    "| _update_ | +       | ao ser combinado com outros modos, permite alteração de arquivo já existente (ex: r+ abre um arquivo existente e permite modificá-lo) |"
   ]
  },
  {
   "cell_type": "code",
   "execution_count": 35,
   "metadata": {},
   "outputs": [],
   "source": [
    "with open('arquivos/exemplo.txt', 'a') as arquivo:\n",
    "  arquivo.write('Escrevendo alguma coisa no arquivo.\\n')\n",
    "  arquivo.writelines(['Isso aqui é uma linha\\n', 'Isso aqui é outra linha.'])"
   ]
  },
  {
   "cell_type": "markdown",
   "metadata": {},
   "source": [
    "## Arquivos CSV\n",
    "\n",
    "### O formato CSV\n",
    "\n",
    "A sigla CSV significa _Comma-Separated Values_, ou \"valores separados por vírgula\". Este formato é uma forma padrão de representar tabelas usando arquivos de texto simples: cada elemento é separado por uma vírgula, e cada linha é separada por uma quebra de linha. \n",
    "\n",
    "Na prática, nem sempre o padrão é seguido à risca: podemos utilizar outros símbolos para fazer a separação. Um bom motivo é o fato de a vírgula ser utilizada para representar casa decimal em algumas línguas, como a língua portuguesa. O importante é ser coerente: todos os elementos deverão ser separados pelo mesmo símbolo, e todas as linhas deverão ter o mesmo número de elementos."
   ]
  },
  {
   "cell_type": "code",
   "execution_count": null,
   "metadata": {},
   "outputs": [],
   "source": []
  },
  {
   "cell_type": "markdown",
   "metadata": {},
   "source": [
    "### O módulo CSV do Python\n",
    "\n",
    "Devido à facilidade de trabalhar com arquivos CSV, com o que vimos sobre arquivos até o momento já conseguimos facilmente escrever um programinha que escreva uma planilha (representada como lista de listas) em um arquivo CSV. Da mesma forma, utilizando as funções que vimos de _strings_, conseguimos abrir um arquivo CSV e adequadamente reconhecer seus elementos (dica: _split_).\n",
    "\n",
    "Porém, como mencionamos antes, o Python possui muita coisa pronta, então não precisamos constantemente reinventar a roda. Existe um módulo chamado _csv_ que já vem instalado com o Python. Ele já faz sozinho o serviço bruto de transformar nossa lista de listas em um texto separado por símbolos e vice-versa."
   ]
  },
  {
   "cell_type": "code",
   "execution_count": 36,
   "metadata": {},
   "outputs": [],
   "source": [
    "import csv"
   ]
  },
  {
   "cell_type": "code",
   "execution_count": 49,
   "metadata": {},
   "outputs": [
    {
     "data": {
      "text/plain": [
       "[['Nome', 'CPF', 'E-mail'],\n",
       " ['Fulano', '123.456.789-00', 'fulano@email.com'],\n",
       " ['Fulana', '123.456.789-01', 'fulana@email.com']]"
      ]
     },
     "execution_count": 49,
     "metadata": {},
     "output_type": "execute_result"
    }
   ],
   "source": [
    "with open('arquivos/clientes.csv') as arquivo:\n",
    "  tabela = csv.reader(arquivo, delimiter=';', lineterminator='\\n')\n",
    "\n",
    "  conteudo = list(tabela)\n",
    "\n",
    "conteudo"
   ]
  },
  {
   "cell_type": "code",
   "execution_count": 51,
   "metadata": {},
   "outputs": [],
   "source": [
    "def escrever_csv(arquivo):\n",
    "  return csv.writer(arquivo, delimiter=';', lineterminator='\\n')"
   ]
  },
  {
   "cell_type": "code",
   "execution_count": 52,
   "metadata": {},
   "outputs": [],
   "source": [
    "with open('arquivos/clientes.csv', 'a') as arquivo:\n",
    "  escritor = csv.writer(arquivo, delimiter=';', lineterminator='\\n')\n",
    "\n",
    "  escritor.writerow(['Outra pessoa', '123.456.789-02', 'outrapessoa@email.com'])"
   ]
  },
  {
   "cell_type": "markdown",
   "metadata": {},
   "source": [
    "### Como atualizar o conteúdo do arquivo CSV?\n",
    "\n",
    "1. Leitura do arquivo\n",
    "2. Alterar a lista/tabela que contém o conteúdo do arquivo\n",
    "3. Sobreescrever o arquivo"
   ]
  },
  {
   "cell_type": "code",
   "execution_count": 53,
   "metadata": {},
   "outputs": [
    {
     "data": {
      "text/plain": [
       "[['Nome', 'CPF', 'E-mail'],\n",
       " ['Fulano', '123.456.789-00', 'fulano@email.com'],\n",
       " ['Fulana', '123.456.789-01', 'fulana@email.com'],\n",
       " ['Outra pessoa', '123.456.789-02', 'outrapessoa@email.com']]"
      ]
     },
     "execution_count": 53,
     "metadata": {},
     "output_type": "execute_result"
    }
   ],
   "source": [
    "with open('arquivos/clientes.csv') as arquivo:\n",
    "  tabela = csv.reader(arquivo, delimiter=';', lineterminator='\\n')\n",
    "\n",
    "  conteudo = list(tabela)\n",
    "\n",
    "conteudo"
   ]
  },
  {
   "cell_type": "code",
   "execution_count": 55,
   "metadata": {},
   "outputs": [
    {
     "data": {
      "text/plain": [
       "[['Nome', 'CPF', 'E-mail'],\n",
       " ['Fulano', '123.456.789-00', 'fulano@email.com'],\n",
       " ['Fulana', '123.456.789-01', 'fulana@email.com'],\n",
       " ['Outra pessoa', '000.000.000-00', 'outrapessoa@email.com']]"
      ]
     },
     "execution_count": 55,
     "metadata": {},
     "output_type": "execute_result"
    }
   ],
   "source": [
    "for linha in conteudo:\n",
    "  if linha[0] == 'Outra pessoa':\n",
    "    linha[1] = '000.000.000-00'\n",
    "\n",
    "conteudo"
   ]
  },
  {
   "cell_type": "code",
   "execution_count": 56,
   "metadata": {},
   "outputs": [],
   "source": [
    "with open('arquivos/clientes.csv', 'w') as arquivo:\n",
    "  escritor = csv.writer(arquivo, delimiter=';', lineterminator='\\n')\n",
    "\n",
    "  escritor.writerows(conteudo)"
   ]
  },
  {
   "cell_type": "code",
   "execution_count": 57,
   "metadata": {},
   "outputs": [],
   "source": [
    "# roberto -> main: Conflitos!\n",
    "# roberto (local) >> push\n",
    "# roberto -> main"
   ]
  },
  {
   "cell_type": "code",
   "execution_count": 1,
   "metadata": {},
   "outputs": [],
   "source": [
    "import modulo"
   ]
  },
  {
   "cell_type": "code",
   "execution_count": 2,
   "metadata": {},
   "outputs": [],
   "source": [
    "linha = ['Walisson', '123.456.789-05', 'walisson@email.com']\n",
    "\n",
    "modulo.adicionar_linha_csv('arquivos/clientes.csv', linha)"
   ]
  },
  {
   "cell_type": "code",
   "execution_count": 7,
   "metadata": {},
   "outputs": [],
   "source": [
    "from pasta_modulo import my_csv"
   ]
  },
  {
   "cell_type": "code",
   "execution_count": null,
   "metadata": {},
   "outputs": [],
   "source": [
    "my_csv.adicionar_linha_csv()"
   ]
  },
  {
   "cell_type": "code",
   "execution_count": 8,
   "metadata": {},
   "outputs": [],
   "source": [
    "from pasta_modulo.my_csv import adicionar_linha_csv"
   ]
  },
  {
   "cell_type": "code",
   "execution_count": null,
   "metadata": {},
   "outputs": [],
   "source": [
    "adicionar_linha_csv()"
   ]
  },
  {
   "cell_type": "code",
   "execution_count": null,
   "metadata": {},
   "outputs": [],
   "source": []
  }
 ],
 "metadata": {
  "interpreter": {
   "hash": "31f2aee4e71d21fbe5cf8b01ff0e069b9275f58929596ceb00d14d90e3e16cd6"
  },
  "kernelspec": {
   "display_name": "Python 3.10.0 64-bit",
   "language": "python",
   "name": "python3"
  },
  "language_info": {
   "codemirror_mode": {
    "name": "ipython",
    "version": 3
   },
   "file_extension": ".py",
   "mimetype": "text/x-python",
   "name": "python",
   "nbconvert_exporter": "python",
   "pygments_lexer": "ipython3",
   "version": "3.10.1"
  },
  "orig_nbformat": 4
 },
 "nbformat": 4,
 "nbformat_minor": 2
}
