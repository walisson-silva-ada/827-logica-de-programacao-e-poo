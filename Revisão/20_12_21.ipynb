{
 "cells": [
  {
   "cell_type": "markdown",
   "metadata": {},
   "source": [
    "# Revisão\n",
    "### 20/12/21\n",
    "\n",
    "---\n",
    "\n",
    "<img src=\"https://selecao.letscode.com.br/favicon.png\" width=\"40px\" style=\"position: absolute; top: 0px; right: 40px; border-radius: 5px;\" />"
   ]
  },
  {
   "cell_type": "markdown",
   "metadata": {},
   "source": [
    "**04. Faça um programa que leia 4 números e informe o maior deles.**\n",
    "\n",
    "> Utilize apenas `if's`"
   ]
  },
  {
   "cell_type": "code",
   "execution_count": 1,
   "metadata": {},
   "outputs": [
    {
     "name": "stdout",
     "output_type": "stream",
     "text": [
      "46.0\n"
     ]
    }
   ],
   "source": [
    "num1 = float(input('Informe o número 1: '))\n",
    "num2 = float(input('Informe o número 2: '))\n",
    "num3 = float(input('Informe o número 3: '))\n",
    "num4 = float(input('Informe o número 4: '))\n",
    "\n",
    "maior_numero = num1\n",
    "if (num2 > maior_numero):\n",
    "  maior_numero = num2\n",
    "if num3 > maior_numero:\n",
    "  maior_numero = num3\n",
    "if num4 > maior_numero:\n",
    "  maior_numero = num4\n",
    "\n",
    "print(maior_numero)"
   ]
  },
  {
   "cell_type": "markdown",
   "metadata": {},
   "source": [
    "**05. Um hospital quer fazer o diagnóstico de gripe ou dengue a partir de um questionário de sintomas, tendo as perguntas abaixo, faça um programa que faça o diagnóstico deste hospital:**\n",
    "\n",
    "a.\tSente dor no corpo?  \n",
    "b.\tVocê tem febre?  \n",
    "c.\tVocê tem tosse?  \n",
    "d.\tEstá com congestão nasal?  \n",
    "e.\tTem manchas pelo corpo?  \n",
    "\n",
    "Para o diagnóstico ele tem a seguinte tabela:\n",
    "\n",
    "| A | B | C | D | E | Resultado|\n",
    "|:-----:|:-----:|:-----:|:-----:|:-----:|:-----:|\n",
    "|Sim|Sim|Não|Não|Sim|Dengue|\n",
    "|Sim|Sim|Sim|Sim|Não|Gripe|\n",
    "|Não|Sim|Sim|Sim|Não|Gripe|\n",
    "|Sim|Não|Não|Não|Não|Sem doenças|\n",
    "|Não|Não|Não|Não|Não|Sem doenças|"
   ]
  },
  {
   "cell_type": "code",
   "execution_count": 25,
   "metadata": {},
   "outputs": [
    {
     "name": "stdout",
     "output_type": "stream",
     "text": [
      "Entrada inválida! Informe novamente...\n"
     ]
    },
    {
     "data": {
      "text/plain": [
       "'s'"
      ]
     },
     "execution_count": 25,
     "metadata": {},
     "output_type": "execute_result"
    }
   ],
   "source": [
    "dor_no_corpo = input('Sente dor no corpo? (s/n)').lower()\n",
    "\n",
    "while dor_no_corpo != 's' and dor_no_corpo != 'n':\n",
    "  print('Entrada inválida! Informe novamente...')\n",
    "  dor_no_corpo = input('Sente dor no corpo? (s/n)').lower()\n",
    "\n",
    "dor_no_corpo"
   ]
  },
  {
   "cell_type": "code",
   "execution_count": 29,
   "metadata": {},
   "outputs": [],
   "source": [
    "def obter_resposta_booleana_do_usuario(sintoma: str) -> bool:\n",
    "  resposta_do_usuario = input(f'Você tem {sintoma}? (s/n)').lower()\n",
    "\n",
    "  while resposta_do_usuario != 's' and resposta_do_usuario != 'n':\n",
    "    print('Entrada inválida! Informe novamente...')\n",
    "    resposta_do_usuario = input(f'Você tem {sintoma}? (s/n)').lower()\n",
    "\n",
    "  return resposta_do_usuario == 's' # Se for 's', retorna True; do contrário, retorna False"
   ]
  },
  {
   "cell_type": "code",
   "execution_count": 31,
   "metadata": {},
   "outputs": [
    {
     "data": {
      "text/plain": [
       "False"
      ]
     },
     "execution_count": 31,
     "metadata": {},
     "output_type": "execute_result"
    }
   ],
   "source": [
    "obter_resposta_booleana_do_usuario('dor no corpo')"
   ]
  },
  {
   "cell_type": "code",
   "execution_count": 13,
   "metadata": {},
   "outputs": [],
   "source": [
    "dor_no_corpo = input('Sente dor no corpo? (s/n)')\n",
    "febre = input('Você tem febre? (s/n)')\n",
    "tosse = input('Você tem tosse? (s/n)')\n",
    "congestao_nasal = input('Você tem congestão nasal? (s/n)')\n",
    "manchas = input('Você tem manchas no corpo? (s/n)')"
   ]
  },
  {
   "cell_type": "code",
   "execution_count": null,
   "metadata": {},
   "outputs": [],
   "source": [
    "tem_dor_no_corpo = obter_resposta_booleana_do_usuario('dor no corpo')\n",
    "tem_febre = obter_resposta_booleana_do_usuario('tosse')\n",
    "tem_tosse = input('Você tem tosse? (s/n)')\n",
    "tem_congestao_nasal = input('Você tem congestão nasal? (s/n)')\n",
    "tem_manchas = input('Você tem manchas no corpo? (s/n)')"
   ]
  },
  {
   "cell_type": "code",
   "execution_count": 14,
   "metadata": {},
   "outputs": [
    {
     "name": "stdout",
     "output_type": "stream",
     "text": [
      "Dengue\n"
     ]
    }
   ],
   "source": [
    "if dor_no_corpo == 's' and febre == 's' and tosse == 'n' and congestao_nasal == 'n' and manchas == 's':\n",
    "  print('Dengue')"
   ]
  },
  {
   "cell_type": "code",
   "execution_count": 15,
   "metadata": {},
   "outputs": [],
   "source": [
    "# Solução utilizando booleanos\n",
    "dor_no_corpo = dor_no_corpo == 's'\n",
    "febre = febre == 's'\n",
    "tosse = tosse == 's'\n",
    "congestao_nasal = congestao_nasal == 's'\n",
    "manchas = manchas == 's'"
   ]
  },
  {
   "cell_type": "code",
   "execution_count": 16,
   "metadata": {},
   "outputs": [
    {
     "data": {
      "text/plain": [
       "(True, True, False, False, True)"
      ]
     },
     "execution_count": 16,
     "metadata": {},
     "output_type": "execute_result"
    }
   ],
   "source": [
    "dor_no_corpo, febre, tosse, congestao_nasal, manchas"
   ]
  },
  {
   "cell_type": "code",
   "execution_count": 19,
   "metadata": {},
   "outputs": [
    {
     "name": "stdout",
     "output_type": "stream",
     "text": [
      "Dengue\n"
     ]
    }
   ],
   "source": [
    "tem_dengue = dor_no_corpo and febre and not tosse and not congestao_nasal and manchas\n",
    "tem_gripe = febre and tosse and congestao_nasal and not manchas\n",
    "sem_doenca = not (febre or tosse or congestao_nasal or manchas)\n",
    "\n",
    "if tem_dengue:\n",
    "  print('Dengue')\n",
    "elif tem_gripe:\n",
    "  print('Gripe')\n",
    "elif sem_doenca:\n",
    "  print('Sem doença')\n",
    "else:\n",
    "  print('Não identificado')"
   ]
  },
  {
   "cell_type": "code",
   "execution_count": 32,
   "metadata": {},
   "outputs": [
    {
     "data": {
      "text/plain": [
       "[True, True, False, False, True]"
      ]
     },
     "execution_count": 32,
     "metadata": {},
     "output_type": "execute_result"
    }
   ],
   "source": [
    "sintomas = ['dor no corpo', 'febre', 'tosse', 'congestão nasal', 'manchas no corpo']\n",
    "\n",
    "tem_dor_no_corpo, tem_febre, tem_tosse, tem_congestao_nasal, tem_manchas = \\\n",
    "  [obter_resposta_booleana_do_usuario(sintoma) for sintoma in sintomas]"
   ]
  },
  {
   "cell_type": "markdown",
   "metadata": {},
   "source": [
    "---"
   ]
  }
 ],
 "metadata": {
  "interpreter": {
   "hash": "916dbcbb3f70747c44a77c7bcd40155683ae19c65e1c03b4aa3499c5328201f1"
  },
  "kernelspec": {
   "display_name": "Python 3.8.10 64-bit",
   "language": "python",
   "name": "python3"
  },
  "language_info": {
   "codemirror_mode": {
    "name": "ipython",
    "version": 3
   },
   "file_extension": ".py",
   "mimetype": "text/x-python",
   "name": "python",
   "nbconvert_exporter": "python",
   "pygments_lexer": "ipython3",
   "version": "3.10.0"
  },
  "orig_nbformat": 4
 },
 "nbformat": 4,
 "nbformat_minor": 2
}
