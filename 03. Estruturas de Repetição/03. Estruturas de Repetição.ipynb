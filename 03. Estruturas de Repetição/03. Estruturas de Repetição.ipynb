{
 "cells": [
  {
   "cell_type": "markdown",
   "metadata": {},
   "source": [
    "# Estruturas de Repetição\n",
    "---\n",
    "\n",
    "### Roteira da Aula\n",
    "\n",
    "1. Laço condicional: `while`\n",
    "2. Laço controlado: `for/range`"
   ]
  },
  {
   "cell_type": "code",
   "execution_count": null,
   "metadata": {},
   "outputs": [],
   "source": []
  }
 ],
 "metadata": {
  "language_info": {
   "name": "python"
  },
  "orig_nbformat": 4
 },
 "nbformat": 4,
 "nbformat_minor": 2
}
