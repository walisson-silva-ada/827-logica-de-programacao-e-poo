{
 "cells": [
  {
   "cell_type": "markdown",
   "id": "2f2df90f",
   "metadata": {},
   "source": [
    "# 3. Estruturas de repetição e Listas\n"
   ]
  },
  {
   "cell_type": "markdown",
   "id": "6de64bb9",
   "metadata": {},
   "source": [
    "\n",
    "Vamos explorar os seguintes tópicos em Python:\n",
    "\n",
    "- Laços de repetição: while\n",
    "- Listas\n",
    "- Laços de repetição: for\n",
    "- Compreensão de listas"
   ]
  },
  {
   "cell_type": "markdown",
   "id": "f2cc50cd",
   "metadata": {},
   "source": [
    "# Habilidades a serem desenvolvidas"
   ]
  },
  {
   "cell_type": "markdown",
   "id": "1be6746a",
   "metadata": {},
   "source": [
    "Ao final da aula o aluno deve:\n",
    "\n",
    "- Saber utilizar corretamente o laço de repetição while:\n",
    "    - Aqui, é importante o conceito de redefinição de variável e atualização de valor;\n",
    "    - Saber como evitar e tratar loops infinitos;\n",
    "- Entender o conceito de lista como uma estrutura de dados;\n",
    "- Saber criar listas as mais diversas;\n",
    "- Conhecer as principais funções e métodos que operam sobre listas;\n",
    "- Conhecer o operador `for` como um iterador;\n",
    "- Conhecer e saber utilizar a função `range()`;\n",
    "- Saber utilizar o for como um laço de repetição;\n",
    "- Conhecer o operador break;\n",
    "- Saber o conceito e o operacional de compreensão de listas."
   ]
  },
  {
   "cell_type": "markdown",
   "id": "9dff7930",
   "metadata": {},
   "source": [
    "# Laços de repetição: while"
   ]
  },
  {
   "cell_type": "markdown",
   "id": "b2d2d0bf",
   "metadata": {},
   "source": [
    "\n",
    "Uma das utilidades de linguagens de programação é a de automatizar tarefas que são repetitivas.\n",
    "\n",
    "Mas, pra isso ser viável, seria bom se tivéssemos uma estrutura para **repetir comandos**, não é mesmo?\n",
    "\n",
    "Imagine que eu queira exibir na tela \"Olá, mundo!\" 5 vezes. Podemos fazer:"
   ]
  },
  {
   "cell_type": "code",
   "execution_count": 1,
   "id": "38ca6c7a",
   "metadata": {
    "ExecuteTime": {
     "end_time": "2021-07-08T19:25:13.897122Z",
     "start_time": "2021-07-08T19:25:13.878934Z"
    }
   },
   "outputs": [
    {
     "name": "stdout",
     "output_type": "stream",
     "text": [
      "Olá, mundo!\n",
      "Olá, mundo!\n",
      "Olá, mundo!\n",
      "Olá, mundo!\n",
      "Olá, mundo!\n"
     ]
    }
   ],
   "source": [
    "# imprima 5 vezes\n",
    "print('Olá, mundo!')\n",
    "print('Olá, mundo!')\n",
    "print('Olá, mundo!')\n",
    "print('Olá, mundo!')\n",
    "print('Olá, mundo!')"
   ]
  },
  {
   "cell_type": "markdown",
   "id": "68867089",
   "metadata": {},
   "source": [
    "Mas, e se eu quiser exibir essa mensagem 1000 vezes? Ou 1 milhão de vezes? Não é ideal escrevermos o mesmo pedaço de código tantas vezes, né?\n",
    "\n",
    "Para isso, existem os **laços de repetição**, que permitem repetir pedaços de código quantas vezes desejarmos!\n",
    "\n",
    "O primeiro laço que vamos ver é o **while**. Este laço tem a seguinte estrutura:\n",
    "\n",
    "```python\n",
    "while (condicao é True):\n",
    "    operacao_repetida\n",
    "```\n",
    "\n",
    "Ou seja, o que tá no bloco do while é repetido **enquanto a condição for verdadeira**"
   ]
  },
  {
   "cell_type": "code",
   "execution_count": 3,
   "metadata": {},
   "outputs": [
    {
     "name": "stdout",
     "output_type": "stream",
     "text": [
      "1\n",
      "2\n",
      "3\n",
      "4\n",
      "5\n"
     ]
    }
   ],
   "source": [
    "contador = 1\n",
    "\n",
    "while contador <= 5:\n",
    "  print(contador)\n",
    "\n",
    "  contador = contador + 1"
   ]
  },
  {
   "cell_type": "markdown",
   "metadata": {},
   "source": [
    "#### <font color=\"red\">Cuidado com o loop infinito!</font>"
   ]
  },
  {
   "cell_type": "markdown",
   "metadata": {},
   "source": [
    "#### Utilizando `continue` e `break` "
   ]
  },
  {
   "cell_type": "code",
   "execution_count": 4,
   "metadata": {},
   "outputs": [
    {
     "name": "stdout",
     "output_type": "stream",
     "text": [
      "Idade inválida! Você precisa ser maior de idade.\n",
      "Idade inválida! Você precisa ser maior de idade.\n",
      "Idade cadastrada com sucesso!\n"
     ]
    }
   ],
   "source": [
    "idade = int(input('Informe sua idade: '))\n",
    "\n",
    "while idade < 18:\n",
    "  print('Idade inválida! Você precisa ser maior de idade.')\n",
    "\n",
    "  idade = int(input('Informe sua idade: '))\n",
    "\n",
    "print('Idade cadastrada com sucesso!')"
   ]
  },
  {
   "cell_type": "code",
   "execution_count": 8,
   "metadata": {},
   "outputs": [
    {
     "name": "stdout",
     "output_type": "stream",
     "text": [
      "Idade inválida! Você precisa ser maior de idade.\n",
      "Idade inválida! Você precisa ser maior de idade.\n",
      "Idade cadastrada com sucesso!\n"
     ]
    }
   ],
   "source": [
    "while True:\n",
    "  idade = int(input('Informe sua idade: '))\n",
    "\n",
    "  if idade >= 18: break\n",
    "  \n",
    "  print('Idade inválida! Você precisa ser maior de idade.')\n",
    "\n",
    "\n",
    "print('Idade cadastrada com sucesso!')"
   ]
  },
  {
   "cell_type": "markdown",
   "metadata": {},
   "source": [
    "### Validando dados com o `while`"
   ]
  },
  {
   "cell_type": "code",
   "execution_count": 6,
   "metadata": {},
   "outputs": [
    {
     "ename": "ValueError",
     "evalue": "invalid literal for int() with base 10: 'dfsdfsdfsdf'",
     "output_type": "error",
     "traceback": [
      "\u001b[0;31m---------------------------------------------------------------------------\u001b[0m",
      "\u001b[0;31mValueError\u001b[0m                                Traceback (most recent call last)",
      "\u001b[0;32m/var/folders/9p/770yx95j1n7187wfwtr4x16h0000gn/T/ipykernel_12376/758140215.py\u001b[0m in \u001b[0;36m<module>\u001b[0;34m\u001b[0m\n\u001b[0;32m----> 1\u001b[0;31m \u001b[0midade\u001b[0m \u001b[0;34m=\u001b[0m \u001b[0mint\u001b[0m\u001b[0;34m(\u001b[0m\u001b[0minput\u001b[0m\u001b[0;34m(\u001b[0m\u001b[0;34m'Informe a sua idade: '\u001b[0m\u001b[0;34m)\u001b[0m\u001b[0;34m)\u001b[0m\u001b[0;34m\u001b[0m\u001b[0;34m\u001b[0m\u001b[0m\n\u001b[0m",
      "\u001b[0;31mValueError\u001b[0m: invalid literal for int() with base 10: 'dfsdfsdfsdf'"
     ]
    }
   ],
   "source": [
    "idade = int(input('Informe a sua idade: '))"
   ]
  },
  {
   "cell_type": "code",
   "execution_count": 16,
   "metadata": {},
   "outputs": [
    {
     "data": {
      "text/plain": [
       "True"
      ]
     },
     "execution_count": 16,
     "metadata": {},
     "output_type": "execute_result"
    }
   ],
   "source": [
    "# Utilizando o isdecimal()\n",
    "'20'.isdecimal()"
   ]
  },
  {
   "cell_type": "code",
   "execution_count": 18,
   "metadata": {},
   "outputs": [
    {
     "name": "stdout",
     "output_type": "stream",
     "text": [
      "Idade válida!\n"
     ]
    }
   ],
   "source": [
    "idade = input('Informe sua idade: ')\n",
    "\n",
    "if idade.isdecimal():\n",
    "  print('Idade válida!')\n",
    "else:\n",
    "  print('Idade inválida!')"
   ]
  },
  {
   "cell_type": "code",
   "execution_count": 21,
   "metadata": {},
   "outputs": [],
   "source": [
    "while not idade.isdecimal():\n",
    "  pass"
   ]
  },
  {
   "cell_type": "code",
   "execution_count": 22,
   "metadata": {},
   "outputs": [],
   "source": [
    "if True:\n",
    "  pass"
   ]
  },
  {
   "cell_type": "markdown",
   "id": "7b841f99",
   "metadata": {},
   "source": [
    "# Listas"
   ]
  },
  {
   "cell_type": "markdown",
   "id": "ac16b374",
   "metadata": {},
   "source": [
    "Imagine que você quer armazenar várias variáveis relacionadas, como, por exemplo, todas suas notas em provas.\n",
    "\n",
    "Se houver muitas notas, não é muito prático criar uma variável para cada uma. Seria muito mais conveniente armazenar todas as notas em uma **lista**, não é mesmo? \n",
    "\n",
    "Em python, temos uma estrutura de dados que é exatamente isso: uma lista! Listas são indicadas por colchete []\n",
    "\n",
    "Uma lista nada mais é que um **conjunto de objetos**, que podem ser de diversos tipos."
   ]
  },
  {
   "cell_type": "markdown",
   "metadata": {},
   "source": [
    "## Criação de Listas"
   ]
  },
  {
   "cell_type": "code",
   "execution_count": 23,
   "metadata": {},
   "outputs": [],
   "source": [
    "lista = ['Walisson', 26, 1.77, True]"
   ]
  },
  {
   "cell_type": "code",
   "execution_count": 24,
   "metadata": {},
   "outputs": [
    {
     "data": {
      "text/plain": [
       "['Walisson', 26, 1.77, True]"
      ]
     },
     "execution_count": 24,
     "metadata": {},
     "output_type": "execute_result"
    }
   ],
   "source": [
    "lista"
   ]
  },
  {
   "cell_type": "code",
   "execution_count": 25,
   "metadata": {},
   "outputs": [
    {
     "data": {
      "text/plain": [
       "list"
      ]
     },
     "execution_count": 25,
     "metadata": {},
     "output_type": "execute_result"
    }
   ],
   "source": [
    "type(lista)"
   ]
  },
  {
   "cell_type": "code",
   "execution_count": null,
   "metadata": {},
   "outputs": [],
   "source": []
  },
  {
   "cell_type": "markdown",
   "id": "ee47684b",
   "metadata": {},
   "source": [
    "## Indexação"
   ]
  },
  {
   "cell_type": "markdown",
   "id": "334755d8",
   "metadata": {},
   "source": [
    "Muitas vezes, queremos **acessar elementos individuais** da lista. \n",
    "\n",
    "Para fazer isso, devemos indicar qual é o **índice** respectivo ao elemento, isto é, qual é a **posição** do elemento dentro da lista\n",
    "\n",
    "Para acessar o elemento na **posição i** da lista \"minha_lista\", fazemos:\n",
    "\n",
    "```python\n",
    "minha_lista[i]\n",
    "```\n",
    "\n",
    "__MUITO IMPORTANTE: a numeração de índice começa em zero!__\n",
    "\n",
    "Ou seja:\n",
    "\n",
    "- O primeiro elemento tem índice 0: ```minha_lista[0]``` ,\n",
    "- O segundo tem índice 1: ```minha_lista[1]```,\n",
    "\n",
    "E assim por diante!\n",
    "\n",
    "Também podemos acessar os últimos elementos, usando índices negativos:\n",
    "\n",
    "- O último elemento tem índice -1: ```minha_lista[-1]```,\n",
    "- O penúltimo tem índice -2: ```minha_lista[-2]```,\n",
    "\n",
    "E assim por diante!"
   ]
  },
  {
   "cell_type": "code",
   "execution_count": 26,
   "metadata": {},
   "outputs": [
    {
     "data": {
      "text/plain": [
       "'Walisson'"
      ]
     },
     "execution_count": 26,
     "metadata": {},
     "output_type": "execute_result"
    }
   ],
   "source": [
    "lista[0]"
   ]
  },
  {
   "cell_type": "code",
   "execution_count": 27,
   "metadata": {},
   "outputs": [
    {
     "data": {
      "text/plain": [
       "True"
      ]
     },
     "execution_count": 27,
     "metadata": {},
     "output_type": "execute_result"
    }
   ],
   "source": [
    "lista[-1]"
   ]
  },
  {
   "cell_type": "code",
   "execution_count": null,
   "metadata": {},
   "outputs": [],
   "source": []
  },
  {
   "cell_type": "code",
   "execution_count": null,
   "metadata": {},
   "outputs": [],
   "source": []
  },
  {
   "cell_type": "code",
   "execution_count": null,
   "metadata": {},
   "outputs": [],
   "source": []
  },
  {
   "cell_type": "markdown",
   "id": "71536688",
   "metadata": {},
   "source": [
    "## Slices"
   ]
  },
  {
   "cell_type": "markdown",
   "id": "281efb2c",
   "metadata": {},
   "source": [
    "Também podemos **acessar pedaços da lista**, indicando o intervalo de índices que queremos, separados por \":\",  **com intervalo superior aberto**:\n",
    "\n",
    "- ```minha_lista[1:3]```: seleciona os elementos de indice 1 até indice 2\n",
    "- ```minha_lista[:4]```: seleciona do primeiro elemento até o de índice 3\n",
    "- ```minha_lista[3:]```: seleciona do elemento de índice 3 até o final\n",
    "- ```minha_lista[:]```: seleciona a lista inteira\n",
    "\n",
    "Este conceito é chamado de \"slicing\" em Python, pois você está pegando \"fatias\" da lista!"
   ]
  },
  {
   "cell_type": "code",
   "execution_count": 28,
   "metadata": {},
   "outputs": [
    {
     "data": {
      "text/plain": [
       "['Walisson', 26]"
      ]
     },
     "execution_count": 28,
     "metadata": {},
     "output_type": "execute_result"
    }
   ],
   "source": [
    "lista[0:2]"
   ]
  },
  {
   "cell_type": "code",
   "execution_count": 29,
   "metadata": {},
   "outputs": [
    {
     "data": {
      "text/plain": [
       "[]"
      ]
     },
     "execution_count": 29,
     "metadata": {},
     "output_type": "execute_result"
    }
   ],
   "source": [
    "lista[-1:-3]"
   ]
  },
  {
   "cell_type": "code",
   "execution_count": 31,
   "metadata": {},
   "outputs": [
    {
     "data": {
      "text/plain": [
       "['Walisson', 26, 1.77, True]"
      ]
     },
     "execution_count": 31,
     "metadata": {},
     "output_type": "execute_result"
    }
   ],
   "source": [
    "lista"
   ]
  },
  {
   "cell_type": "code",
   "execution_count": 30,
   "metadata": {},
   "outputs": [
    {
     "data": {
      "text/plain": [
       "[26, 1.77]"
      ]
     },
     "execution_count": 30,
     "metadata": {},
     "output_type": "execute_result"
    }
   ],
   "source": [
    "lista[-3:-1]"
   ]
  },
  {
   "cell_type": "code",
   "execution_count": 32,
   "metadata": {},
   "outputs": [
    {
     "data": {
      "text/plain": [
       "[True, 1.77]"
      ]
     },
     "execution_count": 32,
     "metadata": {},
     "output_type": "execute_result"
    }
   ],
   "source": [
    "lista[-1:-3:-1]"
   ]
  },
  {
   "cell_type": "markdown",
   "id": "46c7892b",
   "metadata": {},
   "source": [
    "## Operações com listas"
   ]
  },
  {
   "cell_type": "markdown",
   "id": "bab6b7b3",
   "metadata": {},
   "source": [
    "Podemos também fazer algumas **operações com listas**"
   ]
  },
  {
   "cell_type": "markdown",
   "id": "000d9937",
   "metadata": {},
   "source": [
    "### Soma\n",
    "\n",
    "Soma de listas: ao **somar listas**, os elementos são **concatenados**, na ordem dada, para formar uma lista maior:"
   ]
  },
  {
   "cell_type": "code",
   "execution_count": null,
   "metadata": {},
   "outputs": [],
   "source": []
  },
  {
   "cell_type": "markdown",
   "id": "d34e652c",
   "metadata": {},
   "source": [
    "### Multiplicação\n",
    "\n",
    "Ao **multiplicar listas por um inteiro**, os elementos são repetidos, na ordem que aparecem:"
   ]
  },
  {
   "cell_type": "code",
   "execution_count": null,
   "metadata": {},
   "outputs": [],
   "source": []
  },
  {
   "cell_type": "markdown",
   "id": "1d896e66",
   "metadata": {},
   "source": [
    "Se quisermos somar os elementos de duas listas, ou multiplicá-los por algum número, temos que usar um **laço**, como veremos logo mais!"
   ]
  },
  {
   "cell_type": "markdown",
   "id": "e4de59ac",
   "metadata": {},
   "source": [
    "> É possível transformar strings em uma **lista de caracteres**:"
   ]
  },
  {
   "cell_type": "code",
   "execution_count": null,
   "id": "e67cdeb6",
   "metadata": {
    "ExecuteTime": {
     "end_time": "2021-07-08T20:18:26.525285Z",
     "start_time": "2021-07-08T20:18:26.503761Z"
    }
   },
   "outputs": [],
   "source": []
  },
  {
   "cell_type": "markdown",
   "id": "42b555f7",
   "metadata": {},
   "source": [
    "## Funções de listas"
   ]
  },
  {
   "cell_type": "markdown",
   "id": "60feae06",
   "metadata": {},
   "source": [
    "- `list`\n",
    "- `len`\n",
    "- `min`\n",
    "- `max`\n",
    "- `sum`"
   ]
  },
  {
   "cell_type": "code",
   "execution_count": null,
   "id": "32242a7b",
   "metadata": {
    "ExecuteTime": {
     "end_time": "2021-07-08T20:19:15.499906Z",
     "start_time": "2021-07-08T20:19:15.488530Z"
    }
   },
   "outputs": [],
   "source": []
  },
  {
   "cell_type": "markdown",
   "id": "11b0f251",
   "metadata": {},
   "source": [
    "### Redefinindo um elemento"
   ]
  },
  {
   "cell_type": "markdown",
   "id": "9e91a38e",
   "metadata": {},
   "source": [
    "Podemos, também, **redefinir um elemento da lista individualmente**. Para isso, basta selecionarmos este elemento, e redefiní-lo:"
   ]
  },
  {
   "cell_type": "code",
   "execution_count": null,
   "id": "b2e467bc",
   "metadata": {
    "ExecuteTime": {
     "end_time": "2021-07-08T20:30:38.502806Z",
     "start_time": "2021-07-08T20:30:38.488803Z"
    }
   },
   "outputs": [],
   "source": []
  },
  {
   "cell_type": "markdown",
   "metadata": {},
   "source": [
    "## Métodos de listas"
   ]
  },
  {
   "cell_type": "markdown",
   "id": "4dc214ef",
   "metadata": {},
   "source": [
    "### Append"
   ]
  },
  {
   "cell_type": "markdown",
   "id": "a147cf26",
   "metadata": {},
   "source": [
    "Para adicionar um elemento **ao fim da lista**, usamos a função \"append()\".\n",
    "\n",
    "**OBS.: só podemos apendar um único elemento por vez!**"
   ]
  },
  {
   "cell_type": "code",
   "execution_count": null,
   "id": "e8885671",
   "metadata": {
    "ExecuteTime": {
     "end_time": "2021-07-08T20:30:34.530342Z",
     "start_time": "2021-07-08T20:30:34.514309Z"
    }
   },
   "outputs": [],
   "source": []
  },
  {
   "cell_type": "markdown",
   "id": "aad03892",
   "metadata": {},
   "source": [
    "### Insert"
   ]
  },
  {
   "cell_type": "markdown",
   "id": "eba155e1",
   "metadata": {},
   "source": [
    "Se você quiser adicionar um elemento numa **posição específica**, use a função \"insert()\", onde o primeiro argumento é a posição, e o segundo é o elemento:\n",
    "\n",
    "**OBS.: só podemos inserir um único elemento por vez!**"
   ]
  },
  {
   "cell_type": "code",
   "execution_count": null,
   "id": "1c04c619",
   "metadata": {
    "ExecuteTime": {
     "end_time": "2021-07-08T20:30:35.622477Z",
     "start_time": "2021-07-08T20:30:35.617478Z"
    }
   },
   "outputs": [],
   "source": []
  },
  {
   "cell_type": "code",
   "execution_count": null,
   "id": "8ce952a9",
   "metadata": {
    "ExecuteTime": {
     "end_time": "2021-07-08T20:30:36.279511Z",
     "start_time": "2021-07-08T20:30:36.267513Z"
    }
   },
   "outputs": [],
   "source": []
  },
  {
   "cell_type": "markdown",
   "id": "9c654125",
   "metadata": {},
   "source": [
    "### Remove e pop"
   ]
  },
  {
   "cell_type": "markdown",
   "id": "d6564d04",
   "metadata": {},
   "source": [
    "Para **remover um elemento da lista**, use a função \"remove()\". \n",
    "\n",
    "**OBS.: Essa função remove apenas a primeira aparição do elemento**"
   ]
  },
  {
   "cell_type": "code",
   "execution_count": null,
   "metadata": {},
   "outputs": [],
   "source": []
  },
  {
   "cell_type": "code",
   "execution_count": null,
   "metadata": {},
   "outputs": [],
   "source": []
  },
  {
   "cell_type": "markdown",
   "id": "673e76ea",
   "metadata": {},
   "source": [
    "Se você quiser remover um elemento de determinado índice, use a função \"pop()\":"
   ]
  },
  {
   "cell_type": "code",
   "execution_count": null,
   "metadata": {},
   "outputs": [],
   "source": []
  },
  {
   "cell_type": "code",
   "execution_count": null,
   "metadata": {},
   "outputs": [],
   "source": []
  },
  {
   "cell_type": "code",
   "execution_count": null,
   "metadata": {},
   "outputs": [],
   "source": []
  },
  {
   "cell_type": "markdown",
   "id": "ec534376",
   "metadata": {},
   "source": [
    "### Ordenação"
   ]
  },
  {
   "cell_type": "markdown",
   "id": "4521e35c",
   "metadata": {},
   "source": [
    "Muitas vezes é interessante **ordenar a lista**. Pra fazer isso, usamos a função **sorted**.\n",
    "\n",
    "**OBS: essa função só funciona para listas com o mesmo tipo de dado!**"
   ]
  },
  {
   "cell_type": "code",
   "execution_count": null,
   "metadata": {},
   "outputs": [],
   "source": []
  },
  {
   "cell_type": "code",
   "execution_count": null,
   "metadata": {},
   "outputs": [],
   "source": []
  },
  {
   "cell_type": "code",
   "execution_count": null,
   "metadata": {},
   "outputs": [],
   "source": []
  },
  {
   "cell_type": "markdown",
   "id": "9143e870",
   "metadata": {},
   "source": [
    "### Índice e contagem de elementos\n",
    "\n",
    "Se quisermos saber **qual é a posição (índice) de determinado elemento**, usamos o método \".index()\".\n",
    "\n",
    "Este método retorna apenas a **primeira aparição** do elemento:"
   ]
  },
  {
   "cell_type": "code",
   "execution_count": null,
   "id": "9242bb71",
   "metadata": {
    "ExecuteTime": {
     "end_time": "2021-07-08T20:39:11.478321Z",
     "start_time": "2021-07-08T20:39:11.458777Z"
    }
   },
   "outputs": [],
   "source": []
  },
  {
   "cell_type": "code",
   "execution_count": null,
   "metadata": {},
   "outputs": [],
   "source": []
  },
  {
   "cell_type": "code",
   "execution_count": null,
   "metadata": {},
   "outputs": [],
   "source": []
  },
  {
   "cell_type": "markdown",
   "id": "6cad0356",
   "metadata": {},
   "source": [
    "__Um exemplo para o cálculo de média dos valores em uma lista...__\n",
    "\n",
    "Mas fazemos o usuário digitar os elementos da lista, um a um!"
   ]
  },
  {
   "cell_type": "code",
   "execution_count": null,
   "metadata": {},
   "outputs": [],
   "source": []
  },
  {
   "cell_type": "markdown",
   "id": "d6836ddf",
   "metadata": {},
   "source": [
    "# Laços de repetição: for"
   ]
  },
  {
   "cell_type": "markdown",
   "id": "a953b66b",
   "metadata": {},
   "source": [
    "\n",
    "No começo da aula, vimos como usar o laço de repetição `while` para repetir operações em Python\n",
    "\n",
    "Agora, veremos um outro laço, o `for`\n",
    "\n",
    "Mas, antes de vermos como este laço pode ser utilizado para **repetir operações**, é interessante entender o `for` como sendo, na realidade, um operador utilizado para **percorrer elementos de uma lista** (na verdade, de qualquer objeto **iterável** que conheceremos mais pra frente...)\n",
    "\n",
    "A estrutura do for é:\n",
    "\n",
    "```python\n",
    "for item in lista:\n",
    "    operacao_feita_pra_cada_item\n",
    "```"
   ]
  },
  {
   "cell_type": "code",
   "execution_count": null,
   "metadata": {},
   "outputs": [],
   "source": []
  },
  {
   "cell_type": "code",
   "execution_count": null,
   "metadata": {},
   "outputs": [],
   "source": []
  },
  {
   "cell_type": "markdown",
   "id": "10208e87",
   "metadata": {},
   "source": [
    "__Um exemplo de uso...__\n",
    "\n",
    "Separando números par e impar de uma lista de números"
   ]
  },
  {
   "cell_type": "code",
   "execution_count": null,
   "metadata": {},
   "outputs": [],
   "source": []
  },
  {
   "cell_type": "markdown",
   "id": "d0b87ada",
   "metadata": {},
   "source": [
    "O \"for\" percorre todos os elementos de uma lista, a não ser que o \"break\" seja utilizado -- esse comando quebra o for, ou seja, os elementos param de ser percorridos"
   ]
  },
  {
   "cell_type": "markdown",
   "id": "1f125a25",
   "metadata": {},
   "source": [
    "## Compreensão de listas\n",
    "\n",
    "Uma estrutura extremamente útil em python é a __compreensão de listas__ (list comprehension), com a qual é possível construir listas novas a partir de outras listas de forma bem condensada!\n",
    "\n",
    "A sintaxe é: \n",
    "\n",
    "```python\n",
    "[operacao_sobre_os_items for item in lista_base]\n",
    "```"
   ]
  },
  {
   "cell_type": "markdown",
   "id": "348118e4",
   "metadata": {},
   "source": [
    "Por exemplo, é possível criar a mesma \"lista_dobro\" definida acima, de forma muito mais condensada:"
   ]
  },
  {
   "cell_type": "code",
   "execution_count": null,
   "id": "8d9f8710",
   "metadata": {
    "ExecuteTime": {
     "end_time": "2021-07-12T19:11:29.218012Z",
     "start_time": "2021-07-12T19:11:29.204014Z"
    }
   },
   "outputs": [
    {
     "data": {
      "text/plain": [
       "[2, 4, 6, 10, 306, -112]"
      ]
     },
     "metadata": {},
     "output_type": "display_data"
    }
   ],
   "source": [
    "lista = [1, 2, 3, 5, 153, -56]\n",
    "\n",
    "lista_dobro_2 = [2*elemento for elemento in lista]\n",
    "lista_dobro_2"
   ]
  },
  {
   "cell_type": "markdown",
   "id": "aa80a4ac",
   "metadata": {},
   "source": [
    "Também é possível construir uma lista usando compreensão de listas com base em alguma estrutura condicional!\n",
    "\n",
    "Se você for utilizar apenas o if, a sintaxe é:\n",
    "\n",
    "```python\n",
    "[operacao_sobre_os_items for item in lista_base if condicao]\n",
    "```"
   ]
  },
  {
   "cell_type": "code",
   "execution_count": null,
   "id": "fff16275",
   "metadata": {
    "ExecuteTime": {
     "end_time": "2021-07-12T19:21:45.290522Z",
     "start_time": "2021-07-12T19:21:45.268997Z"
    }
   },
   "outputs": [
    {
     "data": {
      "text/plain": [
       "[4, 6, -6, 56, -10, 78, 80]"
      ]
     },
     "metadata": {},
     "output_type": "display_data"
    }
   ],
   "source": [
    "# pega apenas os números pares e cria uma nova lista\n",
    "# obs.: construa a mesma lista abaixo da maneira \"tradicional\", para exemplificar aos alunos\n",
    "# como usar compreensão de listas torna o código mais enxuto\n",
    "\n",
    "lista = [4, 5, 6, 5, -6, 56, 7, -10, 78, 80, 9]\n",
    "\n",
    "lista_par_2 = [x for x in lista if x % 2 ==0]\n",
    "lista_par_2"
   ]
  },
  {
   "cell_type": "markdown",
   "id": "694f99a6",
   "metadata": {},
   "source": [
    "Caso você queira utilizar também o else como parte da estrutura condicional, a sintaxe muda um pouco:\n",
    "\n",
    "```python\n",
    "[valor_caso_if if condicao else valor_caso_else for item in lista_base]\n",
    "```"
   ]
  },
  {
   "cell_type": "code",
   "execution_count": null,
   "id": "43d5fb7b",
   "metadata": {
    "ExecuteTime": {
     "end_time": "2021-07-12T19:16:18.901662Z",
     "start_time": "2021-07-12T19:16:18.735039Z"
    }
   },
   "outputs": [
    {
     "ename": "TypeError",
     "evalue": "unsupported operand type(s) for +: 'int' and 'str'",
     "output_type": "error",
     "traceback": [
      "\u001b[1;31m---------------------------------------------------------------------------\u001b[0m\n",
      "\u001b[1;31mTypeError\u001b[0m                                 Traceback (most recent call last)\n",
      "\u001b[1;32m<ipython-input-11-df1723017899>\u001b[0m in \u001b[0;36m<module>\u001b[1;34m\u001b[0m\n",
      "\u001b[1;32m----> 1\u001b[1;33m \u001b[1;36m4\u001b[0m \u001b[1;33m+\u001b[0m \u001b[1;34m'é par'\u001b[0m\u001b[1;33m\u001b[0m\u001b[1;33m\u001b[0m\u001b[0m\n",
      "\u001b[0m\n",
      "\u001b[1;31mTypeError\u001b[0m: unsupported operand type(s) for +: 'int' and 'str'"
     ]
    }
   ],
   "source": [
    "4 + 'é par'"
   ]
  },
  {
   "cell_type": "code",
   "execution_count": null,
   "id": "2855e7ee",
   "metadata": {
    "ExecuteTime": {
     "end_time": "2021-07-12T19:16:35.482750Z",
     "start_time": "2021-07-12T19:16:35.471752Z"
    }
   },
   "outputs": [
    {
     "data": {
      "text/plain": [
       "'4é par'"
      ]
     },
     "metadata": {},
     "output_type": "display_data"
    }
   ],
   "source": [
    "str(4) + ' é par'"
   ]
  },
  {
   "cell_type": "code",
   "execution_count": null,
   "id": "b361cc11",
   "metadata": {
    "ExecuteTime": {
     "end_time": "2021-07-12T19:18:02.201220Z",
     "start_time": "2021-07-12T19:18:02.185672Z"
    }
   },
   "outputs": [
    {
     "data": {
      "text/plain": [
       "['4 é par.',\n",
       " '5 é impar.',\n",
       " '6 é par.',\n",
       " '5 é impar.',\n",
       " '-6 é par.',\n",
       " '56 é par.',\n",
       " '7 é impar.',\n",
       " '-10 é par.',\n",
       " '78 é par.',\n",
       " '80 é par.',\n",
       " '9 é impar.']"
      ]
     },
     "metadata": {},
     "output_type": "display_data"
    }
   ],
   "source": [
    "# também é possível definir o else.\n",
    "# mas aí a estrutura muda um pouco: primeiro as condições, depois o for\n",
    "\n",
    "# definir se o elemento é par ou impar\n",
    "lista = [4, 5, 6, 5, -6, 56, 7, -10, 78, 80, 9]\n",
    "\n",
    "[str(x) + ' é par.' if x % 2 ==0 else str(x) + ' é impar.' for x in lista]\n"
   ]
  },
  {
   "cell_type": "markdown",
   "id": "07ea900a",
   "metadata": {},
   "source": [
    "### Além da elegância: vantagem da compreensão de listas!"
   ]
  },
  {
   "cell_type": "markdown",
   "id": "c7508d92",
   "metadata": {},
   "source": [
    "A vantagem é o tempo de execução!"
   ]
  },
  {
   "cell_type": "code",
   "execution_count": 15,
   "id": "21f7a66c",
   "metadata": {
    "ExecuteTime": {
     "end_time": "2021-07-12T19:23:29.661756Z",
     "start_time": "2021-07-12T19:23:29.652758Z"
    }
   },
   "outputs": [
    {
     "data": {
      "text/plain": [
       "1000000"
      ]
     },
     "execution_count": 15,
     "metadata": {},
     "output_type": "execute_result"
    }
   ],
   "source": [
    "# criar uma lista com muitos elementos\n",
    "\n",
    "lista = [1] * 1000000\n",
    "len(lista)"
   ]
  },
  {
   "cell_type": "code",
   "execution_count": 16,
   "id": "2ff7f203",
   "metadata": {
    "ExecuteTime": {
     "end_time": "2021-07-12T19:24:51.864859Z",
     "start_time": "2021-07-12T19:24:46.351312Z"
    }
   },
   "outputs": [
    {
     "name": "stdout",
     "output_type": "stream",
     "text": [
      "53.5 ms ± 101 µs per loop (mean ± std. dev. of 7 runs, 10 loops each)\n"
     ]
    }
   ],
   "source": [
    "%%timeit # função mágica que será explicada mais a frente\n",
    "lista_dobro = []\n",
    "\n",
    "for elemento in lista:\n",
    "    \n",
    "    lista_dobro.append(2*elemento)"
   ]
  },
  {
   "cell_type": "code",
   "execution_count": 17,
   "id": "a902bd6e",
   "metadata": {
    "ExecuteTime": {
     "end_time": "2021-07-12T19:25:33.462277Z",
     "start_time": "2021-07-12T19:25:30.321849Z"
    }
   },
   "outputs": [
    {
     "name": "stdout",
     "output_type": "stream",
     "text": [
      "41.9 ms ± 276 µs per loop (mean ± std. dev. of 7 runs, 10 loops each)\n"
     ]
    }
   ],
   "source": [
    "%%timeit\n",
    "lista_dobro = [2*elemento for elemento in lista]"
   ]
  },
  {
   "cell_type": "markdown",
   "id": "d1ca6541",
   "metadata": {},
   "source": [
    "## Função range"
   ]
  },
  {
   "cell_type": "markdown",
   "id": "b33697ca",
   "metadata": {},
   "source": [
    "É muito comum utilizarmos a função \"range()\" juntamente do for\n",
    "\n",
    "Essa função cria um **intervalo**, que é uma espécie de \"lista virtual\" de **números em sequência**. Sua sintaxe é:\n",
    "\n",
    "- range(primeiro_numero, último_numero - 1, passo)\n",
    "\n",
    "Se for dado apenas um argumento, o padrão é começar por zero, e ir de 1 em 1:\n",
    "\n",
    "- range(10) é equivalente a range(0, 10, 1), cria uma sequência de 0 a 9, de 1 em 1\n",
    "- range(-12, 12, 2): cria uma sequência de -12 a 11, de 2 em 2\n",
    "\n",
    "Ao fazermos list(range()), obtermos uma lista correspondente ao iterável.\n",
    "\n",
    "**OBS: só podemos fazer iteráveis de int!**"
   ]
  },
  {
   "cell_type": "code",
   "execution_count": null,
   "metadata": {},
   "outputs": [],
   "source": []
  },
  {
   "cell_type": "code",
   "execution_count": null,
   "metadata": {},
   "outputs": [],
   "source": []
  },
  {
   "cell_type": "code",
   "execution_count": null,
   "metadata": {},
   "outputs": [],
   "source": []
  },
  {
   "cell_type": "code",
   "execution_count": null,
   "metadata": {},
   "outputs": [],
   "source": []
  },
  {
   "cell_type": "markdown",
   "id": "322cd358",
   "metadata": {},
   "source": [
    "O range é muito interessante caso **queiramos repetir determinada instrução**\n",
    "\n",
    "Se vc quer repetir N vezes, basta fazer:\n",
    "\n",
    "```python\n",
    "for i in range(N):\n",
    "    operacao_repetida\n",
    "```\n",
    "\n",
    "É neste sentido que o `for` passa a ser explicitamente um laço de repetição!\n",
    "\n",
    "Mas note que este laço se diferencia do while no fato de **não precisar de uma condição explícita**\n",
    "\n",
    "Este laço determina que as operações sejam repetidas **para valores em uma lista** (que no caso é o `range`).\n",
    "\n",
    "Este laço é, portanto, bem mais controlado -- dificilmente ocorrerá loops infinitos!"
   ]
  },
  {
   "cell_type": "code",
   "execution_count": null,
   "metadata": {},
   "outputs": [],
   "source": []
  },
  {
   "cell_type": "code",
   "execution_count": null,
   "metadata": {},
   "outputs": [],
   "source": []
  },
  {
   "cell_type": "code",
   "execution_count": null,
   "metadata": {},
   "outputs": [],
   "source": []
  },
  {
   "cell_type": "markdown",
   "id": "cf5b9266",
   "metadata": {},
   "source": [
    "# Exercício\n"
   ]
  },
  {
   "cell_type": "markdown",
   "id": "798758b6",
   "metadata": {},
   "source": [
    "Vamos a um exercício que utilizada tudo o que vimos até então?"
   ]
  },
  {
   "cell_type": "code",
   "execution_count": 18,
   "id": "288e7e83",
   "metadata": {
    "ExecuteTime": {
     "end_time": "2021-07-12T19:52:58.408410Z",
     "start_time": "2021-07-12T19:52:41.415470Z"
    }
   },
   "outputs": [],
   "source": [
    "# Faça um programa que peça as 4 notas bimestrais e mostre a média aritmética delas, usando listas.\n"
   ]
  },
  {
   "cell_type": "code",
   "execution_count": null,
   "metadata": {},
   "outputs": [],
   "source": []
  }
 ],
 "metadata": {
  "interpreter": {
   "hash": "aee8b7b246df8f9039afb4144a1f6fd8d2ca17a180786b69acc140d282b71a49"
  },
  "kernelspec": {
   "display_name": "Python 3.9.7 64-bit",
   "language": "python",
   "name": "python3"
  },
  "language_info": {
   "codemirror_mode": {
    "name": "ipython",
    "version": 3
   },
   "file_extension": ".py",
   "mimetype": "text/x-python",
   "name": "python",
   "nbconvert_exporter": "python",
   "pygments_lexer": "ipython3",
   "version": "3.9.7"
  },
  "orig_nbformat": 4
 },
 "nbformat": 4,
 "nbformat_minor": 2
}
